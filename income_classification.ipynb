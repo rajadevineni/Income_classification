{
  "nbformat": 4,
  "nbformat_minor": 0,
  "metadata": {
    "colab": {
      "name": "income_classification.ipynb",
      "provenance": [],
      "collapsed_sections": [],
      "toc_visible": true,
      "authorship_tag": "ABX9TyN3t6Ao8BEPRzTODGRIiuWR",
      "include_colab_link": true
    },
    "kernelspec": {
      "name": "python3",
      "display_name": "Python 3"
    },
    "accelerator": "GPU"
  },
  "cells": [
    {
      "cell_type": "markdown",
      "metadata": {
        "id": "view-in-github",
        "colab_type": "text"
      },
      "source": [
        "<a href=\"https://colab.research.google.com/github/rajadevineni/Income_classification/blob/main/income_classification.ipynb\" target=\"_parent\"><img src=\"https://colab.research.google.com/assets/colab-badge.svg\" alt=\"Open In Colab\"/></a>"
      ]
    },
    {
      "cell_type": "markdown",
      "metadata": {
        "id": "X1JiYBtmw3L5"
      },
      "source": [
        "# Importing libraries and dataset"
      ]
    },
    {
      "cell_type": "code",
      "metadata": {
        "id": "-cSZUBDmkTTK",
        "colab": {
          "base_uri": "https://localhost:8080/"
        },
        "outputId": "4ec361ae-42bb-44f1-e731-63bb7f4c0c1e"
      },
      "source": [
        "!pip install feature_engine"
      ],
      "execution_count": 58,
      "outputs": [
        {
          "output_type": "stream",
          "text": [
            "Requirement already satisfied: feature_engine in /usr/local/lib/python3.6/dist-packages (0.6.1)\n",
            "Requirement already satisfied: numpy>=1.18.2 in /usr/local/lib/python3.6/dist-packages (from feature_engine) (1.18.5)\n",
            "Requirement already satisfied: scikit-learn>=0.22.2 in /usr/local/lib/python3.6/dist-packages (from feature_engine) (0.22.2.post1)\n",
            "Requirement already satisfied: statsmodels>=0.11.1 in /usr/local/lib/python3.6/dist-packages (from feature_engine) (0.12.1)\n",
            "Requirement already satisfied: scipy>=1.4.1 in /usr/local/lib/python3.6/dist-packages (from feature_engine) (1.4.1)\n",
            "Requirement already satisfied: pandas>=1.0.3 in /usr/local/lib/python3.6/dist-packages (from feature_engine) (1.1.4)\n",
            "Requirement already satisfied: joblib>=0.11 in /usr/local/lib/python3.6/dist-packages (from scikit-learn>=0.22.2->feature_engine) (0.17.0)\n",
            "Requirement already satisfied: patsy>=0.5 in /usr/local/lib/python3.6/dist-packages (from statsmodels>=0.11.1->feature_engine) (0.5.1)\n",
            "Requirement already satisfied: python-dateutil>=2.7.3 in /usr/local/lib/python3.6/dist-packages (from pandas>=1.0.3->feature_engine) (2.8.1)\n",
            "Requirement already satisfied: pytz>=2017.2 in /usr/local/lib/python3.6/dist-packages (from pandas>=1.0.3->feature_engine) (2018.9)\n",
            "Requirement already satisfied: six in /usr/local/lib/python3.6/dist-packages (from patsy>=0.5->statsmodels>=0.11.1->feature_engine) (1.15.0)\n"
          ],
          "name": "stdout"
        }
      ]
    },
    {
      "cell_type": "code",
      "metadata": {
        "id": "VGl9939rk48u"
      },
      "source": [
        "from math import sqrt\n",
        "import pandas as pd\n",
        "import numpy as np\n",
        "import matplotlib.pyplot as plt\n",
        "import seaborn as sns\n",
        "import scipy.stats as stats\n",
        "from pathlib import Path\n",
        "\n",
        "pd.pandas.set_option('display.max_columns', None)\n",
        "%matplotlib inline"
      ],
      "execution_count": 59,
      "outputs": []
    },
    {
      "cell_type": "markdown",
      "metadata": {
        "id": "PGTh5IO3ynqe"
      },
      "source": [
        "## Grid Search import"
      ]
    },
    {
      "cell_type": "code",
      "metadata": {
        "id": "yFwYJGbksrYH"
      },
      "source": [
        "from sklearn.model_selection import GridSearchCV\n",
        "from sklearn.model_selection import cross_val_score"
      ],
      "execution_count": 60,
      "outputs": []
    },
    {
      "cell_type": "markdown",
      "metadata": {
        "id": "iFIdx37bsK09"
      },
      "source": [
        "# Load dataset"
      ]
    },
    {
      "cell_type": "code",
      "metadata": {
        "ExecuteTime": {
          "end_time": "2020-03-09T07:32:50.854852Z",
          "start_time": "2020-03-09T07:32:50.812739Z"
        },
        "id": "Xb2ctCx_sK0-",
        "colab": {
          "base_uri": "https://localhost:8080/",
          "height": 0
        },
        "outputId": "9f1b65d3-cb95-462b-ae4c-f1d6af6cf640"
      },
      "source": [
        "# load dataset\n",
        "# Dataset is extracted from https://sci2s.ugr.es/keel/dataset.php?cod=192\n",
        "path = \"https://raw.githubusercontent.com/rajadevineni/Income_classification/main/adult.csv\"\n",
        "data = pd.read_csv(path)\n",
        "print('Number of records in the Dataset: ', len(data))\n",
        "print('Number of features in the Dataset: ', data.shape[1])\n",
        "data.head(5)"
      ],
      "execution_count": 61,
      "outputs": [
        {
          "output_type": "stream",
          "text": [
            "Number of records in the Dataset:  48842\n",
            "Number of features in the Dataset:  15\n"
          ],
          "name": "stdout"
        },
        {
          "output_type": "execute_result",
          "data": {
            "text/html": [
              "<div>\n",
              "<style scoped>\n",
              "    .dataframe tbody tr th:only-of-type {\n",
              "        vertical-align: middle;\n",
              "    }\n",
              "\n",
              "    .dataframe tbody tr th {\n",
              "        vertical-align: top;\n",
              "    }\n",
              "\n",
              "    .dataframe thead th {\n",
              "        text-align: right;\n",
              "    }\n",
              "</style>\n",
              "<table border=\"1\" class=\"dataframe\">\n",
              "  <thead>\n",
              "    <tr style=\"text-align: right;\">\n",
              "      <th></th>\n",
              "      <th>Age</th>\n",
              "      <th>Workclass</th>\n",
              "      <th>Fnlwgt</th>\n",
              "      <th>Education</th>\n",
              "      <th>Education-num</th>\n",
              "      <th>Marital-status</th>\n",
              "      <th>Occupation</th>\n",
              "      <th>Relationship</th>\n",
              "      <th>Race</th>\n",
              "      <th>Sex</th>\n",
              "      <th>Capital-gain</th>\n",
              "      <th>Capital-loss</th>\n",
              "      <th>Hours-per-week</th>\n",
              "      <th>Native-country</th>\n",
              "      <th>Class</th>\n",
              "    </tr>\n",
              "  </thead>\n",
              "  <tbody>\n",
              "    <tr>\n",
              "      <th>0</th>\n",
              "      <td>25</td>\n",
              "      <td>Private</td>\n",
              "      <td>226802</td>\n",
              "      <td>11th</td>\n",
              "      <td>7</td>\n",
              "      <td>Never-married</td>\n",
              "      <td>Machine-op-inspct</td>\n",
              "      <td>Own-child</td>\n",
              "      <td>Black</td>\n",
              "      <td>Male</td>\n",
              "      <td>0</td>\n",
              "      <td>0</td>\n",
              "      <td>40</td>\n",
              "      <td>United-States</td>\n",
              "      <td>&lt;=50K</td>\n",
              "    </tr>\n",
              "    <tr>\n",
              "      <th>1</th>\n",
              "      <td>38</td>\n",
              "      <td>Private</td>\n",
              "      <td>89814</td>\n",
              "      <td>HS-grad</td>\n",
              "      <td>9</td>\n",
              "      <td>Married-civ-spouse</td>\n",
              "      <td>Farming-fishing</td>\n",
              "      <td>Husband</td>\n",
              "      <td>White</td>\n",
              "      <td>Male</td>\n",
              "      <td>0</td>\n",
              "      <td>0</td>\n",
              "      <td>50</td>\n",
              "      <td>United-States</td>\n",
              "      <td>&lt;=50K</td>\n",
              "    </tr>\n",
              "    <tr>\n",
              "      <th>2</th>\n",
              "      <td>28</td>\n",
              "      <td>Local-gov</td>\n",
              "      <td>336951</td>\n",
              "      <td>Assoc-acdm</td>\n",
              "      <td>12</td>\n",
              "      <td>Married-civ-spouse</td>\n",
              "      <td>Protective-serv</td>\n",
              "      <td>Husband</td>\n",
              "      <td>White</td>\n",
              "      <td>Male</td>\n",
              "      <td>0</td>\n",
              "      <td>0</td>\n",
              "      <td>40</td>\n",
              "      <td>United-States</td>\n",
              "      <td>&gt;50K</td>\n",
              "    </tr>\n",
              "    <tr>\n",
              "      <th>3</th>\n",
              "      <td>44</td>\n",
              "      <td>Private</td>\n",
              "      <td>160323</td>\n",
              "      <td>Some-college</td>\n",
              "      <td>10</td>\n",
              "      <td>Married-civ-spouse</td>\n",
              "      <td>Machine-op-inspct</td>\n",
              "      <td>Husband</td>\n",
              "      <td>Black</td>\n",
              "      <td>Male</td>\n",
              "      <td>7688</td>\n",
              "      <td>0</td>\n",
              "      <td>40</td>\n",
              "      <td>United-States</td>\n",
              "      <td>&gt;50K</td>\n",
              "    </tr>\n",
              "    <tr>\n",
              "      <th>4</th>\n",
              "      <td>18</td>\n",
              "      <td>NaN</td>\n",
              "      <td>103497</td>\n",
              "      <td>Some-college</td>\n",
              "      <td>10</td>\n",
              "      <td>Never-married</td>\n",
              "      <td>NaN</td>\n",
              "      <td>Own-child</td>\n",
              "      <td>White</td>\n",
              "      <td>Female</td>\n",
              "      <td>0</td>\n",
              "      <td>0</td>\n",
              "      <td>30</td>\n",
              "      <td>United-States</td>\n",
              "      <td>&lt;=50K</td>\n",
              "    </tr>\n",
              "  </tbody>\n",
              "</table>\n",
              "</div>"
            ],
            "text/plain": [
              "   Age  Workclass  Fnlwgt     Education  Education-num      Marital-status  \\\n",
              "0   25    Private  226802          11th              7       Never-married   \n",
              "1   38    Private   89814       HS-grad              9  Married-civ-spouse   \n",
              "2   28  Local-gov  336951    Assoc-acdm             12  Married-civ-spouse   \n",
              "3   44    Private  160323  Some-college             10  Married-civ-spouse   \n",
              "4   18        NaN  103497  Some-college             10       Never-married   \n",
              "\n",
              "          Occupation Relationship   Race     Sex  Capital-gain  Capital-loss  \\\n",
              "0  Machine-op-inspct    Own-child  Black    Male             0             0   \n",
              "1    Farming-fishing      Husband  White    Male             0             0   \n",
              "2    Protective-serv      Husband  White    Male             0             0   \n",
              "3  Machine-op-inspct      Husband  Black    Male          7688             0   \n",
              "4                NaN    Own-child  White  Female             0             0   \n",
              "\n",
              "   Hours-per-week Native-country  Class  \n",
              "0              40  United-States  <=50K  \n",
              "1              50  United-States  <=50K  \n",
              "2              40  United-States   >50K  \n",
              "3              40  United-States   >50K  \n",
              "4              30  United-States  <=50K  "
            ]
          },
          "metadata": {
            "tags": []
          },
          "execution_count": 61
        }
      ]
    },
    {
      "cell_type": "markdown",
      "metadata": {
        "id": "-EheMIyXhMPI"
      },
      "source": [
        "# Inspecting and exploring the data"
      ]
    },
    {
      "cell_type": "markdown",
      "metadata": {
        "id": "m7fpXiMNsK1B"
      },
      "source": [
        "## Types of variables\n",
        "\n"
      ]
    },
    {
      "cell_type": "code",
      "metadata": {
        "ExecuteTime": {
          "end_time": "2020-03-09T07:32:53.140553Z",
          "start_time": "2020-03-09T07:32:53.135036Z"
        },
        "id": "bxDr9ifMsK1H",
        "colab": {
          "base_uri": "https://localhost:8080/"
        },
        "outputId": "fe1b43b8-0b84-4c2a-fa30-0a5f6cb10128"
      },
      "source": [
        "# List for categorical variables\n",
        "categorical = [var for var in data.columns if data[var].dtype=='O']\n",
        "\n",
        "# List for numerical variables\n",
        "numerical = [var for var in data.columns if data[var].dtype!='O']\n",
        "\n",
        "# list of variables that contain year information\n",
        "year_vars = [var for var in numerical if 'Yr' in var or 'Year' in var]\n",
        "\n",
        "#To identify discrete variables- numerical variables with less than 20 unique values \n",
        "# List for discrete variables\n",
        "discrete = [var for var in numerical if len(data[var].unique()) < 20 and var not in year_vars]\n",
        "\n",
        "# List for continuous variables\n",
        "continuous = [var for var in numerical if var not in discrete and var not in [\n",
        "    'id', 'target'] and var not in year_vars]\n",
        "\n",
        "print(f'There are {len(categorical)} categorical variables:',categorical)\n",
        "print(f'There are {len(numerical)} numerical variables:',numerical)\n",
        "print(f'There are {len(year_vars)} temporal variables:',year_vars)\n",
        "print(f'There are {len(discrete)} discrete variables:', discrete)\n",
        "print(f'There are {len(continuous)} continuous variables:', continuous)"
      ],
      "execution_count": 62,
      "outputs": [
        {
          "output_type": "stream",
          "text": [
            "There are 9 categorical variables: ['Workclass', 'Education', 'Marital-status', 'Occupation', 'Relationship', 'Race', 'Sex', 'Native-country', 'Class']\n",
            "There are 6 numerical variables: ['Age', 'Fnlwgt', 'Education-num', 'Capital-gain', 'Capital-loss', 'Hours-per-week']\n",
            "There are 0 temporal variables: []\n",
            "There are 1 discrete variables: ['Education-num']\n",
            "There are 5 continuous variables: ['Age', 'Fnlwgt', 'Capital-gain', 'Capital-loss', 'Hours-per-week']\n"
          ],
          "name": "stdout"
        }
      ]
    },
    {
      "cell_type": "markdown",
      "metadata": {
        "id": "cIlEzSmmw6F9"
      },
      "source": [
        "## Inspecting Data"
      ]
    },
    {
      "cell_type": "markdown",
      "metadata": {
        "id": "fcw-BwAhyC5N"
      },
      "source": [
        "### Checking for null values in the dataset\n",
        "\n",
        "* There are null values in Workclass, Occupation and Native-country column"
      ]
    },
    {
      "cell_type": "code",
      "metadata": {
        "id": "swJwIMGZ0NO7",
        "colab": {
          "base_uri": "https://localhost:8080/"
        },
        "outputId": "72245464-d596-4399-8bcc-e9fc55340904"
      },
      "source": [
        "print(data.isna().sum())\n",
        "#print(data.isnull().mean())"
      ],
      "execution_count": 63,
      "outputs": [
        {
          "output_type": "stream",
          "text": [
            "Age                  0\n",
            "Workclass         2799\n",
            "Fnlwgt               0\n",
            "Education            0\n",
            "Education-num        0\n",
            "Marital-status       0\n",
            "Occupation        2809\n",
            "Relationship         0\n",
            "Race                 0\n",
            "Sex                  0\n",
            "Capital-gain         0\n",
            "Capital-loss         0\n",
            "Hours-per-week       0\n",
            "Native-country     857\n",
            "Class                0\n",
            "dtype: int64\n"
          ],
          "name": "stdout"
        }
      ]
    },
    {
      "cell_type": "markdown",
      "metadata": {
        "id": "JTr59XUjyUiY"
      },
      "source": [
        "### Inspecting the variable values"
      ]
    },
    {
      "cell_type": "markdown",
      "metadata": {
        "id": "VRU024v0-UTz"
      },
      "source": [
        "* Education-num column is the ordinal representation of Education column, therefore we can drop Education-num column"
      ]
    },
    {
      "cell_type": "code",
      "metadata": {
        "ExecuteTime": {
          "end_time": "2020-03-09T07:31:14.669575Z",
          "start_time": "2020-03-09T07:31:14.655034Z"
        },
        "code_folding": [],
        "id": "Vj8Y9zesldQr",
        "colab": {
          "base_uri": "https://localhost:8080/"
        },
        "outputId": "4edc493e-8428-441c-f020-5437320d2d1e"
      },
      "source": [
        "for var in data.columns:\n",
        "    print(var, data[var].unique()[0:20], '\\n')"
      ],
      "execution_count": 64,
      "outputs": [
        {
          "output_type": "stream",
          "text": [
            "Age [25 38 28 44 18 34 29 63 24 55 65 36 26 58 48 43 20 37 40 72] \n",
            "\n",
            "Workclass ['Private' 'Local-gov' nan 'Self-emp-not-inc' 'Federal-gov' 'State-gov'\n",
            " 'Self-emp-inc' 'Without-pay' 'Never-worked'] \n",
            "\n",
            "Fnlwgt [226802  89814 336951 160323 103497 198693 227026 104626 369667 104996\n",
            " 184454 212465  82091 299831 279724 346189 444554 128354  60548  85019] \n",
            "\n",
            "Education ['11th' 'HS-grad' 'Assoc-acdm' 'Some-college' '10th' 'Prof-school'\n",
            " '7th-8th' 'Bachelors' 'Masters' 'Doctorate' '5th-6th' 'Assoc-voc' '9th'\n",
            " '12th' '1st-4th' 'Preschool'] \n",
            "\n",
            "Education-num [ 7  9 12 10  6 15  4 13 14 16  3 11  5  8  2  1] \n",
            "\n",
            "Marital-status ['Never-married' 'Married-civ-spouse' 'Widowed' 'Divorced' 'Separated'\n",
            " 'Married-spouse-absent' 'Married-AF-spouse'] \n",
            "\n",
            "Occupation ['Machine-op-inspct' 'Farming-fishing' 'Protective-serv' nan\n",
            " 'Other-service' 'Prof-specialty' 'Craft-repair' 'Adm-clerical'\n",
            " 'Exec-managerial' 'Tech-support' 'Sales' 'Priv-house-serv'\n",
            " 'Transport-moving' 'Handlers-cleaners' 'Armed-Forces'] \n",
            "\n",
            "Relationship ['Own-child' 'Husband' 'Not-in-family' 'Unmarried' 'Wife' 'Other-relative'] \n",
            "\n",
            "Race ['Black' 'White' 'Asian-Pac-Islander' 'Other' 'Amer-Indian-Eskimo'] \n",
            "\n",
            "Sex ['Male' 'Female'] \n",
            "\n",
            "Capital-gain [    0  7688  3103  6418  7298  3908 14084  5178 15024 99999  2597  2907\n",
            "  4650  6497  1055  5013 27828  4934  4064  3674] \n",
            "\n",
            "Capital-loss [   0 1721 1876 2415 1887  625 1977 2057 1429 1590 1485 2051 2377 1672\n",
            " 1628 1902 1602 1741 2444 1408] \n",
            "\n",
            "Hours-per-week [40 50 30 32 10 39 35 48 25 20 45 47  6 43 90 54 60 38 36 18] \n",
            "\n",
            "Native-country ['United-States' nan 'Peru' 'Guatemala' 'Mexico' 'Dominican-Republic'\n",
            " 'Ireland' 'Germany' 'Philippines' 'Thailand' 'Haiti' 'El-Salvador'\n",
            " 'Puerto-Rico' 'Vietnam' 'South' 'Columbia' 'Japan' 'India' 'Cambodia'\n",
            " 'Poland'] \n",
            "\n",
            "Class ['<=50K' '>50K'] \n",
            "\n"
          ],
          "name": "stdout"
        }
      ]
    },
    {
      "cell_type": "markdown",
      "metadata": {
        "id": "FUrBydH7YYXa"
      },
      "source": [
        "### cardinality (number of different categories)"
      ]
    },
    {
      "cell_type": "code",
      "metadata": {
        "id": "aJbHMtT_YHmX",
        "colab": {
          "base_uri": "https://localhost:8080/"
        },
        "outputId": "6ebc015b-d59f-4dc8-ee78-841f37cbc4fd"
      },
      "source": [
        "data.nunique()"
      ],
      "execution_count": 65,
      "outputs": [
        {
          "output_type": "execute_result",
          "data": {
            "text/plain": [
              "Age                  74\n",
              "Workclass             8\n",
              "Fnlwgt            28523\n",
              "Education            16\n",
              "Education-num        16\n",
              "Marital-status        7\n",
              "Occupation           14\n",
              "Relationship          6\n",
              "Race                  5\n",
              "Sex                   2\n",
              "Capital-gain        123\n",
              "Capital-loss         99\n",
              "Hours-per-week       96\n",
              "Native-country       41\n",
              "Class                 2\n",
              "dtype: int64"
            ]
          },
          "metadata": {
            "tags": []
          },
          "execution_count": 65
        }
      ]
    },
    {
      "cell_type": "markdown",
      "metadata": {
        "id": "jByVvHgqmPYD"
      },
      "source": [
        "# Exploratory analysis on the dataset"
      ]
    },
    {
      "cell_type": "code",
      "metadata": {
        "id": "yPfyG1hHsuGJ",
        "colab": {
          "base_uri": "https://localhost:8080/",
          "height": 0
        },
        "outputId": "37991d59-4b08-4516-d0f7-a7145efb39c2"
      },
      "source": [
        "data.describe()"
      ],
      "execution_count": 66,
      "outputs": [
        {
          "output_type": "execute_result",
          "data": {
            "text/html": [
              "<div>\n",
              "<style scoped>\n",
              "    .dataframe tbody tr th:only-of-type {\n",
              "        vertical-align: middle;\n",
              "    }\n",
              "\n",
              "    .dataframe tbody tr th {\n",
              "        vertical-align: top;\n",
              "    }\n",
              "\n",
              "    .dataframe thead th {\n",
              "        text-align: right;\n",
              "    }\n",
              "</style>\n",
              "<table border=\"1\" class=\"dataframe\">\n",
              "  <thead>\n",
              "    <tr style=\"text-align: right;\">\n",
              "      <th></th>\n",
              "      <th>Age</th>\n",
              "      <th>Fnlwgt</th>\n",
              "      <th>Education-num</th>\n",
              "      <th>Capital-gain</th>\n",
              "      <th>Capital-loss</th>\n",
              "      <th>Hours-per-week</th>\n",
              "    </tr>\n",
              "  </thead>\n",
              "  <tbody>\n",
              "    <tr>\n",
              "      <th>count</th>\n",
              "      <td>48842.000000</td>\n",
              "      <td>4.884200e+04</td>\n",
              "      <td>48842.000000</td>\n",
              "      <td>48842.000000</td>\n",
              "      <td>48842.000000</td>\n",
              "      <td>48842.000000</td>\n",
              "    </tr>\n",
              "    <tr>\n",
              "      <th>mean</th>\n",
              "      <td>38.643585</td>\n",
              "      <td>1.896641e+05</td>\n",
              "      <td>10.078089</td>\n",
              "      <td>1079.067626</td>\n",
              "      <td>87.502314</td>\n",
              "      <td>40.422382</td>\n",
              "    </tr>\n",
              "    <tr>\n",
              "      <th>std</th>\n",
              "      <td>13.710510</td>\n",
              "      <td>1.056040e+05</td>\n",
              "      <td>2.570973</td>\n",
              "      <td>7452.019058</td>\n",
              "      <td>403.004552</td>\n",
              "      <td>12.391444</td>\n",
              "    </tr>\n",
              "    <tr>\n",
              "      <th>min</th>\n",
              "      <td>17.000000</td>\n",
              "      <td>1.228500e+04</td>\n",
              "      <td>1.000000</td>\n",
              "      <td>0.000000</td>\n",
              "      <td>0.000000</td>\n",
              "      <td>1.000000</td>\n",
              "    </tr>\n",
              "    <tr>\n",
              "      <th>25%</th>\n",
              "      <td>28.000000</td>\n",
              "      <td>1.175505e+05</td>\n",
              "      <td>9.000000</td>\n",
              "      <td>0.000000</td>\n",
              "      <td>0.000000</td>\n",
              "      <td>40.000000</td>\n",
              "    </tr>\n",
              "    <tr>\n",
              "      <th>50%</th>\n",
              "      <td>37.000000</td>\n",
              "      <td>1.781445e+05</td>\n",
              "      <td>10.000000</td>\n",
              "      <td>0.000000</td>\n",
              "      <td>0.000000</td>\n",
              "      <td>40.000000</td>\n",
              "    </tr>\n",
              "    <tr>\n",
              "      <th>75%</th>\n",
              "      <td>48.000000</td>\n",
              "      <td>2.376420e+05</td>\n",
              "      <td>12.000000</td>\n",
              "      <td>0.000000</td>\n",
              "      <td>0.000000</td>\n",
              "      <td>45.000000</td>\n",
              "    </tr>\n",
              "    <tr>\n",
              "      <th>max</th>\n",
              "      <td>90.000000</td>\n",
              "      <td>1.490400e+06</td>\n",
              "      <td>16.000000</td>\n",
              "      <td>99999.000000</td>\n",
              "      <td>4356.000000</td>\n",
              "      <td>99.000000</td>\n",
              "    </tr>\n",
              "  </tbody>\n",
              "</table>\n",
              "</div>"
            ],
            "text/plain": [
              "                Age        Fnlwgt  Education-num  Capital-gain  Capital-loss  \\\n",
              "count  48842.000000  4.884200e+04   48842.000000  48842.000000  48842.000000   \n",
              "mean      38.643585  1.896641e+05      10.078089   1079.067626     87.502314   \n",
              "std       13.710510  1.056040e+05       2.570973   7452.019058    403.004552   \n",
              "min       17.000000  1.228500e+04       1.000000      0.000000      0.000000   \n",
              "25%       28.000000  1.175505e+05       9.000000      0.000000      0.000000   \n",
              "50%       37.000000  1.781445e+05      10.000000      0.000000      0.000000   \n",
              "75%       48.000000  2.376420e+05      12.000000      0.000000      0.000000   \n",
              "max       90.000000  1.490400e+06      16.000000  99999.000000   4356.000000   \n",
              "\n",
              "       Hours-per-week  \n",
              "count    48842.000000  \n",
              "mean        40.422382  \n",
              "std         12.391444  \n",
              "min          1.000000  \n",
              "25%         40.000000  \n",
              "50%         40.000000  \n",
              "75%         45.000000  \n",
              "max         99.000000  "
            ]
          },
          "metadata": {
            "tags": []
          },
          "execution_count": 66
        }
      ]
    },
    {
      "cell_type": "markdown",
      "metadata": {
        "id": "fqBEQJ7e1Dju"
      },
      "source": [
        "### Creating correlation matrix\n",
        "* There is no significant correlation between any features"
      ]
    },
    {
      "cell_type": "code",
      "metadata": {
        "id": "o2amXQXlpF2b",
        "colab": {
          "base_uri": "https://localhost:8080/",
          "height": 0
        },
        "outputId": "ee102549-c73b-4deb-f171-c4f17e44e22c"
      },
      "source": [
        "# data.corr(method='pearson', min_periods=1)\n",
        "# Correlation matrix\n",
        "correlation_matrix = data.corr().round(2)\n",
        "figure = plt.figure(figsize=(5, 5))\n",
        "sns.heatmap(data=correlation_matrix, annot=True)"
      ],
      "execution_count": 67,
      "outputs": [
        {
          "output_type": "execute_result",
          "data": {
            "text/plain": [
              "<matplotlib.axes._subplots.AxesSubplot at 0x7f2a9b745278>"
            ]
          },
          "metadata": {
            "tags": []
          },
          "execution_count": 67
        },
        {
          "output_type": "display_data",
          "data": {
            "image/png": "[encoded data removed]",
            "text/plain": [
              "<Figure size 360x360 with 2 Axes>"
            ]
          },
          "metadata": {
            "tags": [],
            "needs_background": "light"
          }
        }
      ]
    },
    {
      "cell_type": "markdown",
      "metadata": {
        "id": "pxVF9_odqQV3"
      },
      "source": [
        "## Exploring distribution and outliers in the dataset"
      ]
    },
    {
      "cell_type": "markdown",
      "metadata": {
        "id": "v6TzZybN8Jfh"
      },
      "source": [
        "### Capital gain distribution based on Income class\n",
        "* This distribution graphs tells us that the outliers based on capital-gains are mostly in >50K class. \n",
        "* IF we choose to put a cap based on Capital-Gain then the outliers can be filtered out from Capital-gain>20000 "
      ]
    },
    {
      "cell_type": "code",
      "metadata": {
        "id": "NSKNU7xP3HQO",
        "colab": {
          "base_uri": "https://localhost:8080/",
          "height": 0
        },
        "outputId": "5ea4e296-db14-4ab9-a726-8719bf2a0268"
      },
      "source": [
        "ax = sns.displot(data, x=\"Capital-gain\", hue ='Class')\n",
        "plt.show()"
      ],
      "execution_count": 68,
      "outputs": [
        {
          "output_type": "display_data",
          "data": {
            "image/png": "[encoded data removed]",
            "text/plain": [
              "<Figure size 431.75x360 with 1 Axes>"
            ]
          },
          "metadata": {
            "tags": [],
            "needs_background": "light"
          }
        }
      ]
    },
    {
      "cell_type": "markdown",
      "metadata": {
        "id": "-oPme0XmVbl9"
      },
      "source": [
        "### Distibution of Fnlwgt based on income Class\n",
        "* This graph is skewed towards right, we will perform a scalar transformation on this variable in upcoming fature engineering steps"
      ]
    },
    {
      "cell_type": "code",
      "metadata": {
        "id": "rERfs4-E-LAe",
        "colab": {
          "base_uri": "https://localhost:8080/",
          "height": 0
        },
        "outputId": "5fb3e467-c943-48a5-fdcf-bb31eba48ee7"
      },
      "source": [
        "ax = sns.displot(data, x=\"Fnlwgt\", hue ='Class')\n",
        "plt.show()"
      ],
      "execution_count": 69,
      "outputs": [
        {
          "output_type": "display_data",
          "data": {
            "image/png": "[encoded data removed]",
            "text/plain": [
              "<Figure size 431.75x360 with 1 Axes>"
            ]
          },
          "metadata": {
            "tags": [],
            "needs_background": "light"
          }
        }
      ]
    },
    {
      "cell_type": "markdown",
      "metadata": {
        "id": "tZEm4B724rG-"
      },
      "source": [
        "### Income vs Age\n",
        "* There are some out liers bases on the Age with respect to both categories of Income. \n",
        "* The records with Age above 70 can be filtered inorder to remove the ourliers"
      ]
    },
    {
      "cell_type": "code",
      "metadata": {
        "id": "9AI015PWgUee",
        "colab": {
          "base_uri": "https://localhost:8080/",
          "height": 0
        },
        "outputId": "93df6735-3a0a-4a84-d505-0c9bd1c9b33a"
      },
      "source": [
        "f, ax = plt.subplots(figsize=(10, 5))\n",
        "ax = sns.boxplot(x=\"Class\", y=\"Age\", data=data)\n",
        "ax.set_title(\"Income vs Age - Outliers\")\n",
        "plt.show()"
      ],
      "execution_count": 70,
      "outputs": [
        {
          "output_type": "display_data",
          "data": {
            "image/png": "[encoded data removed]",
            "text/plain": [
              "<Figure size 720x360 with 1 Axes>"
            ]
          },
          "metadata": {
            "tags": [],
            "needs_background": "light"
          }
        }
      ]
    },
    {
      "cell_type": "markdown",
      "metadata": {
        "id": "DKSDvWauPbt5"
      },
      "source": [
        "### Frequency distribution of workclass\n",
        "\n",
        "* We can see that the working class other than \"Private\" has very lower count  than 5000 observations for respective category.\n",
        "* We have also seen in the previous section that there are **2799 missing values** in \"Workclass\" column which is would all combine to form another category. Hence, using *imputation_method='missing'* would be resonable in this case."
      ]
    },
    {
      "cell_type": "code",
      "metadata": {
        "id": "MK4L-GK8OL71",
        "colab": {
          "base_uri": "https://localhost:8080/",
          "height": 0
        },
        "outputId": "0ebc1976-fe90-48ac-da37-51ef14e1c6e7"
      },
      "source": [
        "f, ax = plt.subplots(figsize=(15, 5))\n",
        "ax = sns.countplot(x=\"Workclass\", data=data, palette=\"Set1\")\n",
        "ax.set_title(\"Frequency distribution of Workclass\")\n",
        "ax.set_xticklabels(data.Workclass.value_counts().index, rotation=90)\n",
        "plt.show()"
      ],
      "execution_count": 71,
      "outputs": [
        {
          "output_type": "display_data",
          "data": {
            "image/png": "[encoded data removed]",
            "text/plain": [
              "<Figure size 1080x360 with 1 Axes>"
            ]
          },
          "metadata": {
            "tags": [],
            "needs_background": "light"
          }
        }
      ]
    },
    {
      "cell_type": "markdown",
      "metadata": {
        "id": "kPNQ23GoQ2BO"
      },
      "source": [
        "### Frequency distribution of Occupation\n",
        "\n",
        "* We can see that the Occupation variable has many categories with healthy distributions and only 4 categories such as Tech-support, Armed-Forces and Exec-managerial have less observations. \n",
        "* We have also seen in the previous section that there are **2809 missing values** in \"Occupation\" column. Since there are multiple categories with similar counts,we can create a new missing category using *imputation_method='missing'*"
      ]
    },
    {
      "cell_type": "code",
      "metadata": {
        "id": "2bfmO7vaQ2BV",
        "colab": {
          "base_uri": "https://localhost:8080/",
          "height": 0
        },
        "outputId": "c9f65a35-5f16-43c9-bea1-d788cc05df99"
      },
      "source": [
        "f, ax = plt.subplots(figsize=(15, 5))\n",
        "ax = sns.countplot(x=\"Occupation\", data=data, palette=\"Set1\")\n",
        "ax.set_title(\"Frequency distribution of Occupation\")\n",
        "ax.set_xticklabels(data.Occupation.value_counts().index, rotation=90)\n",
        "plt.show()\n",
        "data['Occupation'].value_counts()"
      ],
      "execution_count": 72,
      "outputs": [
        {
          "output_type": "display_data",
          "data": {
            "image/png": "[encoded data removed]",
            "text/plain": [
              "<Figure size 1080x360 with 1 Axes>"
            ]
          },
          "metadata": {
            "tags": [],
            "needs_background": "light"
          }
        },
        {
          "output_type": "execute_result",
          "data": {
            "text/plain": [
              "Prof-specialty       6172\n",
              "Craft-repair         6112\n",
              "Exec-managerial      6086\n",
              "Adm-clerical         5611\n",
              "Sales                5504\n",
              "Other-service        4923\n",
              "Machine-op-inspct    3022\n",
              "Transport-moving     2355\n",
              "Handlers-cleaners    2072\n",
              "Farming-fishing      1490\n",
              "Tech-support         1446\n",
              "Protective-serv       983\n",
              "Priv-house-serv       242\n",
              "Armed-Forces           15\n",
              "Name: Occupation, dtype: int64"
            ]
          },
          "metadata": {
            "tags": []
          },
          "execution_count": 72
        }
      ]
    },
    {
      "cell_type": "markdown",
      "metadata": {
        "id": "Bf_IrtIsSUfW"
      },
      "source": [
        "### Frequency distribution of Native-country\n",
        "\n",
        "* We can see that the Native-country variable has many countries in the variable but ***89.7%*** observations have ***United States*** as the country.\n",
        "* We have also seen in the previous section that there are **857 missing values** in \"Native-country\" column. Those missing values can be assigned new missing category using *imputation_method='missing'*. \n",
        "* In the later part of pre-processing pipeline, we can groups infrequent countires altogether into one new category called *'Rare'*. "
      ]
    },
    {
      "cell_type": "code",
      "metadata": {
        "id": "0O3VeCRqSUfd",
        "colab": {
          "base_uri": "https://localhost:8080/",
          "height": 0
        },
        "outputId": "67bb4ee5-9ba3-4725-9a7f-e0071f56070b"
      },
      "source": [
        "f, ax = plt.subplots(figsize=(50, 10))\n",
        "ax = sns.countplot(x=\"Native-country\", data=data, palette=\"Set1\", hue='Class')\n",
        "ax.set_title(\"Frequency distribution of Native-country\")\n",
        "plt.show()\n",
        "data['Native-country'].value_counts()"
      ],
      "execution_count": 73,
      "outputs": [
        {
          "output_type": "display_data",
          "data": {
            "image/png": "[encoded data removed]",
            "text/plain": [
              "<Figure size 3600x720 with 1 Axes>"
            ]
          },
          "metadata": {
            "tags": [],
            "needs_background": "light"
          }
        },
        {
          "output_type": "execute_result",
          "data": {
            "text/plain": [
              "United-States                 43832\n",
              "Mexico                          951\n",
              "Philippines                     295\n",
              "Germany                         206\n",
              "Puerto-Rico                     184\n",
              "Canada                          182\n",
              "El-Salvador                     155\n",
              "India                           151\n",
              "Cuba                            138\n",
              "England                         127\n",
              "China                           122\n",
              "South                           115\n",
              "Jamaica                         106\n",
              "Italy                           105\n",
              "Dominican-Republic              103\n",
              "Japan                            92\n",
              "Guatemala                        88\n",
              "Poland                           87\n",
              "Vietnam                          86\n",
              "Columbia                         85\n",
              "Haiti                            75\n",
              "Portugal                         67\n",
              "Taiwan                           65\n",
              "Iran                             59\n",
              "Nicaragua                        49\n",
              "Greece                           49\n",
              "Peru                             46\n",
              "Ecuador                          45\n",
              "France                           38\n",
              "Ireland                          37\n",
              "Hong                             30\n",
              "Thailand                         30\n",
              "Cambodia                         28\n",
              "Trinadad&Tobago                  27\n",
              "Yugoslavia                       23\n",
              "Outlying-US(Guam-USVI-etc)       23\n",
              "Laos                             23\n",
              "Scotland                         21\n",
              "Honduras                         20\n",
              "Hungary                          19\n",
              "Holand-Netherlands                1\n",
              "Name: Native-country, dtype: int64"
            ]
          },
          "metadata": {
            "tags": []
          },
          "execution_count": 73
        }
      ]
    },
    {
      "cell_type": "code",
      "metadata": {
        "id": "n684pC78WA_G",
        "colab": {
          "base_uri": "https://localhost:8080/"
        },
        "outputId": "f784d38b-7c57-4fca-dc11-aa26d8072bdb"
      },
      "source": [
        "print('% of observations of United-States:',(data[data['Native-country'] == 'United-States'].shape[0] / data.shape[0])*100)"
      ],
      "execution_count": 74,
      "outputs": [
        {
          "output_type": "stream",
          "text": [
            "% of observations of United-States: 89.74243478973015\n"
          ],
          "name": "stdout"
        }
      ]
    },
    {
      "cell_type": "markdown",
      "metadata": {
        "id": "XHYlYKooipcV"
      },
      "source": [
        "# Data Transformations and encoding"
      ]
    },
    {
      "cell_type": "code",
      "metadata": {
        "ExecuteTime": {
          "end_time": "2020-03-09T07:31:49.061072Z",
          "start_time": "2020-03-09T07:31:49.056562Z"
        },
        "id": "zkyqcSHGvdMZ"
      },
      "source": [
        "# from feature-engine\n",
        "from feature_engine import missing_data_imputers as mdi\n",
        "# for one hot encoding with feature-engine\n",
        "from feature_engine.categorical_encoders import OneHotCategoricalEncoder\n",
        "from feature_engine.categorical_encoders import RareLabelCategoricalEncoder\n",
        "from sklearn.linear_model import LogisticRegression\n",
        "from sklearn.pipeline import Pipeline\n",
        "from feature_engine.wrappers import SklearnTransformerWrapper\n",
        "from sklearn.preprocessing import StandardScaler"
      ],
      "execution_count": 75,
      "outputs": []
    },
    {
      "cell_type": "markdown",
      "metadata": {
        "id": "q-x14LHMadm9"
      },
      "source": [
        "## Setting up Features for pre-processing, creating Train and Test datasets\n",
        "\n",
        "* Since the target variable \"Class\" is in string we need to convert it to Binary variable for the predictions, Hence we create a new binary variable callled \"Target\""
      ]
    },
    {
      "cell_type": "code",
      "metadata": {
        "id": "5POLaWfPPJ-C",
        "colab": {
          "base_uri": "https://localhost:8080/"
        },
        "outputId": "3be07c5b-f73c-43f3-db26-620631c641e0"
      },
      "source": [
        "# Replacing \n",
        "data['Class'] = data['Class'].replace('>50K',1)\n",
        "data['Class'] = data['Class'].replace('<=50K',0)\n",
        "\n",
        "# Checking for balance of the dataset\n",
        "print('% of Positives in the dataset:',(data[data['Class']=='>50K'].shape[0]/data.shape[0])*100)\n",
        "\n",
        "# Capping the dataset based on Age to remove the outliers\n",
        "data_capp = data[(data[\"Age\"] <=70)]\n",
        "print(\"Removed records:\",data.shape[0]-data_capp.shape[0])\n",
        "print(\"Updated Records:\",data_capp.shape)\n",
        "print('% of Positives in the filtered dataset:',(data_capp[data_capp['Class']=='>50K'].shape[0]/data_capp.shape[0])*100)"
      ],
      "execution_count": 76,
      "outputs": [
        {
          "output_type": "stream",
          "text": [
            "% of Positives in the dataset: 0.0\n",
            "Removed records: 868\n",
            "Updated Records: (47974, 15)\n",
            "% of Positives in the filtered dataset: 0.0\n"
          ],
          "name": "stdout"
        }
      ]
    },
    {
      "cell_type": "markdown",
      "metadata": {
        "id": "9yE9inkcPG9I"
      },
      "source": [
        "## Function to run the pre processing pipeline"
      ]
    },
    {
      "cell_type": "markdown",
      "metadata": {
        "id": "Eeo0qvmTgHQS"
      },
      "source": [
        "## Subset"
      ]
    },
    {
      "cell_type": "code",
      "metadata": {
        "ExecuteTime": {
          "end_time": "2020-03-09T07:31:43.601228Z",
          "start_time": "2020-03-09T07:31:43.589194Z"
        },
        "id": "A-BhSZXivdMS",
        "colab": {
          "base_uri": "https://localhost:8080/"
        },
        "outputId": "55b41a82-362c-40e7-f15e-1a7465260926"
      },
      "source": [
        "# Create subset to fine tune the parameters\n",
        "\n",
        "data_sub = data.sample(frac=0.6, replace=False, random_state=42)\n",
        "# separate into training and testing set\n",
        "from sklearn.model_selection import train_test_split\n",
        "X_train, X_test, y_train, y_test = train_test_split(\n",
        "    data_sub.drop(['Education','Native-country','Class'], axis=1),  # predictors\n",
        "    data_sub['Class'],  # target\n",
        "    test_size=0.1,  # percentage of obs in test set\n",
        "    random_state=0)  # seed to ensure reproducibility\n",
        "print(\"Dataset seperated into, shape of X_train\",X_train.shape, \"Shape of X_test\",X_test.shape,'\\n')"
      ],
      "execution_count": 77,
      "outputs": [
        {
          "output_type": "stream",
          "text": [
            "Dataset seperated into, shape of X_train (26374, 12) Shape of X_test (2931, 12) \n",
            "\n"
          ],
          "name": "stdout"
        }
      ]
    },
    {
      "cell_type": "markdown",
      "metadata": {
        "id": "GQSiflRWgMom"
      },
      "source": [
        "## Whole dataset"
      ]
    },
    {
      "cell_type": "code",
      "metadata": {
        "ExecuteTime": {
          "end_time": "2020-03-09T07:31:43.601228Z",
          "start_time": "2020-03-09T07:31:43.589194Z"
        },
        "id": "nUP9HwfNgRgr",
        "colab": {
          "base_uri": "https://localhost:8080/"
        },
        "outputId": "2128a13e-b340-446f-e254-e37cc4fe6922"
      },
      "source": [
        "# separate into training and testing set\n",
        "from sklearn.model_selection import train_test_split\n",
        "X_train, X_test, y_train, y_test = train_test_split(\n",
        "    data.drop(['Education','Native-country','Class'], axis=1),  # predictors\n",
        "    data['Class'],  # target\n",
        "    test_size=0.1,  # percentage of obs in test set\n",
        "    random_state=0)  # seed to ensure reproducibility\n",
        "print(\"Dataset seperated into, shape of X_train\",X_train.shape, \"Shape of X_test\",X_test.shape,'\\n')"
      ],
      "execution_count": 78,
      "outputs": [
        {
          "output_type": "stream",
          "text": [
            "Dataset seperated into, shape of X_train (43957, 12) Shape of X_test (4885, 12) \n",
            "\n"
          ],
          "name": "stdout"
        }
      ]
    },
    {
      "cell_type": "code",
      "metadata": {
        "id": "uX1Orn7UPFzz",
        "colab": {
          "base_uri": "https://localhost:8080/"
        },
        "outputId": "e83d4ab3-cd8f-4f14-aa33-f5c2ae9c3a96"
      },
      "source": [
        "# Function to run the pre processing pipeline\n",
        "income_pipe = Pipeline([\n",
        "\n",
        "    # missing data imputation \n",
        "    ('imputer_cat_missing',\n",
        "     mdi.CategoricalVariableImputer(imputation_method='missing',variables=['Workclass','Occupation'])),\n",
        "\n",
        "    # categorical encoding \n",
        "    ('encoder_rare_label',\n",
        "     RareLabelCategoricalEncoder(tol=0.01,\n",
        "                                    n_categories=4,\n",
        "                                    variables=['Race','Relationship','Occupation','Marital-status','Workclass'])),\n",
        "    ('categorical_encoder',\n",
        "     OneHotCategoricalEncoder( top_categories=None,\n",
        "                               variables=['Race','Relationship','Occupation','Marital-status','Workclass','Sex'], # we can select which variables to encode\n",
        "                               drop_last=True)),\n",
        "    ('scaler', SklearnTransformerWrapper(transformer=StandardScaler(), variables = ['Fnlwgt','Age','Capital-gain','Capital-loss','Hours-per-week'])),\n",
        "\n",
        "  ])\n",
        "income_pipe.fit(X_train, X_test)\n",
        "# Apply Transformations\n",
        "X_train=income_pipe.transform(X_train)\n",
        "X_test=income_pipe.transform(X_test)\n",
        "print(\"Data Pre-Processing pipeline completed, shape of X_train\",X_train.shape, \"Shape of X_test\",X_test.shape)"
      ],
      "execution_count": 79,
      "outputs": [
        {
          "output_type": "stream",
          "text": [
            "Data Pre-Processing pipeline completed, shape of X_train (43957, 41) Shape of X_test (4885, 41)\n"
          ],
          "name": "stdout"
        }
      ]
    },
    {
      "cell_type": "markdown",
      "metadata": {
        "id": "3mE923RPNukz"
      },
      "source": [
        "# Dummy Classifier (Naive Model)"
      ]
    },
    {
      "cell_type": "code",
      "metadata": {
        "ExecuteTime": {
          "end_time": "2020-04-05T21:05:09.563000Z",
          "start_time": "2020-04-05T21:05:09.527096Z"
        },
        "id": "_eeVTQQTu1xJ",
        "colab": {
          "base_uri": "https://localhost:8080/"
        },
        "outputId": "6cc15009-d726-4cb2-f278-8099d149913b"
      },
      "source": [
        "from sklearn.dummy import DummyClassifier\n",
        "\n",
        "dummy_majority = DummyClassifier(strategy='most_frequent')\n",
        "dummy_majority.fit(X_train, y_train)\n",
        "\n",
        "pred_most_frequent = dummy_majority.predict(X_test)\n",
        "\n",
        "print(\"Unique predicted labels: {}\".format(np.unique(pred_most_frequent)))\n",
        "print(\"Test score: {:.2f}\".format(dummy_majority.score(X_test, y_test)))"
      ],
      "execution_count": 103,
      "outputs": [
        {
          "output_type": "stream",
          "text": [
            "Unique predicted labels: [0]\n",
            "Test score: 0.75\n"
          ],
          "name": "stdout"
        }
      ]
    },
    {
      "cell_type": "code",
      "metadata": {
        "ExecuteTime": {
          "end_time": "2020-04-05T21:05:10.670243Z",
          "start_time": "2020-04-05T21:05:10.655251Z"
        },
        "id": "jDP-LDoZu1xL",
        "colab": {
          "base_uri": "https://localhost:8080/"
        },
        "outputId": "f6988b83-83bc-4e67-f544-6037ebe9f014"
      },
      "source": [
        "from sklearn.tree import DecisionTreeClassifier\n",
        "tree = DecisionTreeClassifier(max_depth=2).fit(X_train, y_train)\n",
        "pred_tree = tree.predict(X_test)\n",
        "print(\"Test score: {:.2f}\".format(tree.score(X_test, y_test)))"
      ],
      "execution_count": 106,
      "outputs": [
        {
          "output_type": "stream",
          "text": [
            "Test score: 0.82\n"
          ],
          "name": "stdout"
        }
      ]
    },
    {
      "cell_type": "code",
      "metadata": {
        "ExecuteTime": {
          "end_time": "2020-04-05T21:05:12.168084Z",
          "start_time": "2020-04-05T21:05:12.103254Z"
        },
        "id": "LJEDZJKbu1xO",
        "colab": {
          "base_uri": "https://localhost:8080/"
        },
        "outputId": "1b85badc-fc1c-4b98-a4c9-b1bdb88b80c3"
      },
      "source": [
        "from sklearn.linear_model import LogisticRegression\n",
        "\n",
        "dummy = DummyClassifier().fit(X_train, y_train)\n",
        "pred_dummy = dummy.predict(X_test)\n",
        "print(\"dummy score: {:.2f}\".format(dummy.score(X_test, y_test)))\n",
        "\n",
        "logreg = LogisticRegression(C=0.1,max_iter=10000).fit(X_train, y_train)\n",
        "pred_logreg = logreg.predict(X_test)\n",
        "print(\"logreg score: {:.2f}\".format(logreg.score(X_test, y_test)))"
      ],
      "execution_count": 107,
      "outputs": [
        {
          "output_type": "stream",
          "text": [
            "/usr/local/lib/python3.6/dist-packages/sklearn/dummy.py:132: FutureWarning: The default value of strategy will change from stratified to prior in 0.24.\n",
            "  \"stratified to prior in 0.24.\", FutureWarning)\n"
          ],
          "name": "stderr"
        },
        {
          "output_type": "stream",
          "text": [
            "dummy score: 0.64\n",
            "logreg score: 0.84\n"
          ],
          "name": "stdout"
        }
      ]
    },
    {
      "cell_type": "markdown",
      "metadata": {
        "id": "JYJsPi1hDLth"
      },
      "source": [
        "# Cost Sensitive Classifiers"
      ]
    },
    {
      "cell_type": "code",
      "metadata": {
        "ExecuteTime": {
          "end_time": "2020-04-28T03:32:12.042967Z",
          "start_time": "2020-04-28T03:32:09.560682Z"
        },
        "id": "y-h6WU3CqZns"
      },
      "source": [
        "from numpy import mean\n",
        "from sklearn.datasets import make_classification\n",
        "from sklearn.model_selection import GridSearchCV\n",
        "from sklearn.model_selection import RepeatedStratifiedKFold\n",
        "from sklearn.linear_model import LogisticRegression\n",
        "from sklearn.tree import DecisionTreeClassifier\n",
        "from sklearn.svm import SVC\n",
        "from sklearn.model_selection import cross_val_score\n",
        "from xgboost import XGBClassifier"
      ],
      "execution_count": 83,
      "outputs": []
    },
    {
      "cell_type": "markdown",
      "metadata": {
        "id": "B_Duyi9MqZn0"
      },
      "source": [
        "## Cost Sensitive Logistic regression"
      ]
    },
    {
      "cell_type": "code",
      "metadata": {
        "ExecuteTime": {
          "end_time": "2020-04-19T02:43:26.773142Z",
          "start_time": "2020-04-19T02:43:25.679039Z"
        },
        "id": "I7NHalhTqZn6",
        "colab": {
          "base_uri": "https://localhost:8080/"
        },
        "outputId": "0215df57-4176-4882-9fb2-27ce541005cd"
      },
      "source": [
        "logreg = LogisticRegression(solver='lbfgs',max_iter=10000000)\n",
        "param_grid = {\n",
        "    \n",
        "    'class_weight': [{0:10,1:1}, {0:1,1:1}, {0:1,1:10},],\n",
        "}\n",
        "\n",
        "#apply grid search\n",
        "grid_logreg= GridSearchCV(logreg, param_grid, cv=5, n_jobs=2)\n",
        "grid_logreg.fit(X_train, y_train)\n",
        "\n",
        "print(\"Best parameters: {}\".format(grid_logreg.best_params_))\n",
        "print(f'Best Mean Cross Validation Score is {grid_logreg.best_score_}')\n",
        "print(f'Train score is {grid_logreg.score(X_train,y_train)}')\n",
        "print(f'Test score is {grid_logreg.score(X_test,y_test)}')"
      ],
      "execution_count": 128,
      "outputs": [
        {
          "output_type": "stream",
          "text": [
            "Best parameters: {'class_weight': {0: 1, 1: 1}}\n",
            "Best Mean Cross Validation Score is 0.8526286008448751\n",
            "Train score is 0.8530836954296244\n",
            "Test score is 0.844216990788127\n"
          ],
          "name": "stdout"
        }
      ]
    },
    {
      "cell_type": "markdown",
      "metadata": {
        "id": "zSI_s9vkqZoF"
      },
      "source": [
        "## Cost Sensitive Decison Tree"
      ]
    },
    {
      "cell_type": "code",
      "metadata": {
        "ExecuteTime": {
          "end_time": "2020-04-19T02:43:33.029580Z",
          "start_time": "2020-04-19T02:43:32.568088Z"
        },
        "id": "p5NHAP7LqZoF",
        "colab": {
          "base_uri": "https://localhost:8080/"
        },
        "outputId": "38b0602e-6ac9-4f7a-b40e-f20143f48207"
      },
      "source": [
        "dtree = DecisionTreeClassifier()\n",
        "param_grid = {    \n",
        "    'class_weight': [{0:1,1:1}, {0:1,1:10}],\n",
        "}\n",
        "\n",
        "#apply grid search\n",
        "grid_dtree= GridSearchCV(dtree, param_grid, cv=5, n_jobs=2)\n",
        "grid_dtree.fit(X_train, y_train)\n",
        "\n",
        "print(\"Best parameters: {}\".format(grid_dtree.best_params_))\n",
        "print(f'Best Mean Cross Validation Score is {grid_dtree.best_score_}')\n",
        "print(f'Train score is {grid_dtree.score(X_train,y_train)}')\n",
        "print(f'Test score is {grid_dtree.score(X_test,y_test)}')"
      ],
      "execution_count": 126,
      "outputs": [
        {
          "output_type": "stream",
          "text": [
            "Best parameters: {'class_weight': {0: 1, 1: 10}}\n",
            "Best Mean Cross Validation Score is 0.8198693106700137\n",
            "Train score is 0.9999317514844052\n",
            "Test score is 0.8176049129989764\n"
          ],
          "name": "stdout"
        }
      ]
    },
    {
      "cell_type": "markdown",
      "metadata": {
        "id": "Y7SmXS6YqZoC"
      },
      "source": [
        "## Cost Sensitive SVM"
      ]
    },
    {
      "cell_type": "code",
      "metadata": {
        "ExecuteTime": {
          "end_time": "2020-04-19T02:43:32.541161Z",
          "start_time": "2020-04-19T02:43:28.982773Z"
        },
        "id": "PqDw1l4wqZoD",
        "colab": {
          "base_uri": "https://localhost:8080/"
        },
        "outputId": "1be5e47c-266a-40fd-b63c-44a83a852622"
      },
      "source": [
        "svc = SVC()\n",
        "param_grid = {\n",
        "    \n",
        "    'class_weight': [{0:10,1:1}, {0:1,1:1}, {0:1,1:10}],\n",
        "}\n",
        "\n",
        "#apply grid search\n",
        "grid_svc= GridSearchCV(svc, param_grid, cv=5, n_jobs=2)\n",
        "grid_svc.fit(X_train, y_train)\n",
        "\n",
        "print(\"Best parameters: {}\".format(grid_svc.best_params_))\n",
        "print(\"Best Mean cross-validation score: {:.2f}\".format(grid_svc.best_score_))\n",
        "print(f'Train score is {grid_svc.score(X_train,y_train)}')\n",
        "print(f'Test score is {grid_svc.score(X_test,y_test)}')"
      ],
      "execution_count": 127,
      "outputs": [
        {
          "output_type": "stream",
          "text": [
            "/usr/local/lib/python3.6/dist-packages/joblib/externals/loky/process_executor.py:691: UserWarning: A worker stopped while some jobs were given to the executor. This can be caused by a too short worker timeout or by a memory leak.\n",
            "  \"timeout or by a memory leak.\", UserWarning\n"
          ],
          "name": "stderr"
        },
        {
          "output_type": "stream",
          "text": [
            "Best parameters: {'class_weight': {0: 1, 1: 1}}\n",
            "Best Mean cross-validation score: 0.85\n",
            "Train score is 0.8547444093090976\n",
            "Test score is 0.8462640736949847\n"
          ],
          "name": "stdout"
        }
      ]
    },
    {
      "cell_type": "markdown",
      "metadata": {
        "id": "WVDcF8hGq-M7"
      },
      "source": [
        "## Cost Sensitive Random Forest \n",
        "- class_weight = 'balanced_subsample' - weight are based on proportions in the bootstrapped sample"
      ]
    },
    {
      "cell_type": "code",
      "metadata": {
        "id": "9s-b2sOgwBK1"
      },
      "source": [
        "from sklearn.ensemble import RandomForestClassifier"
      ],
      "execution_count": 130,
      "outputs": []
    },
    {
      "cell_type": "code",
      "metadata": {
        "ExecuteTime": {
          "end_time": "2020-04-19T02:43:32.541161Z",
          "start_time": "2020-04-19T02:43:28.982773Z"
        },
        "colab": {
          "base_uri": "https://localhost:8080/"
        },
        "id": "6HDAUpSiv-IG",
        "outputId": "477265cc-35a0-452f-e7cf-75b6cd981bfb"
      },
      "source": [
        "rfc = RandomForestClassifier(n_estimators=100, class_weight='balanced_subsample')\n",
        "param_grid = {    \n",
        "    'class_weight': [{0:100,1:1}, {0:10,1:1}, {0:1,1:1}, {0:1,1:10}, {0:1,1:100}],\n",
        "}\n",
        "cv = RepeatedStratifiedKFold(n_splits=10, n_repeats=3, random_state=1)\n",
        "#apply grid search\n",
        "grid_rfc = GridSearchCV(rfc, param_grid, cv=cv, n_jobs=2)\n",
        "grid_rfc.fit(X_train, y_train)\n",
        "\n",
        "print(\"Best parameters: {}\".format(grid_rfc.best_params_))\n",
        "print(\"Best Mean cross-validation score: {:.2f}\".format(grid_rfc.best_score_))\n",
        "print(f'Train score is {grid_rfc.score(X_train,y_train)}')\n",
        "print(f'Test score is {grid_rfc.score(X_test,y_test)}')"
      ],
      "execution_count": 136,
      "outputs": [
        {
          "output_type": "stream",
          "text": [
            "Best parameters: {'class_weight': {0: 1, 1: 10}}\n",
            "Best Mean cross-validation score: 0.86\n",
            "Train score is 0.9999317514844052\n",
            "Test score is 0.8575230296827021\n"
          ],
          "name": "stdout"
        }
      ]
    },
    {
      "cell_type": "markdown",
      "metadata": {
        "id": "-kf-5wbtULkZ"
      },
      "source": [
        "## Cost Sensitive Gradient Boosting with XGBoost"
      ]
    },
    {
      "cell_type": "code",
      "metadata": {
        "id": "VG3zZUFP1lgB"
      },
      "source": [
        "pip install xgboost"
      ],
      "execution_count": null,
      "outputs": []
    },
    {
      "cell_type": "code",
      "metadata": {
        "ExecuteTime": {
          "end_time": "2020-04-19T02:43:43.301586Z",
          "start_time": "2020-04-19T02:43:33.058471Z"
        },
        "colab": {
          "base_uri": "https://localhost:8080/"
        },
        "id": "2GevIaSUULkZ",
        "outputId": "5cdab523-0aa6-4ba2-a57f-46b7df20a303"
      },
      "source": [
        "xgboost = XGBClassifier()\n",
        "param_grid = {\n",
        "    \n",
        "    'scale_pos_weight': [1, 10, 25, 50, 75, 99, 100, 1000],\n",
        "}\n",
        "\n",
        "#apply grid search\n",
        "grid_xgboost= GridSearchCV(xgboost, param_grid, cv=5, n_jobs=2)\n",
        "grid_xgboost.fit(X_train, y_train)\n",
        "\n",
        "print(\"Best parameters: {}\".format(grid_xgboost.best_params_))\n",
        "print(f'Best Mean Cross Validation Score is {grid_xgboost.best_score_}')\n",
        "print(f'Train score is {grid_xgboost.score(X_train,y_train)}')\n",
        "print(f'Test score is {grid_xgboost.score(X_test,y_test)}')"
      ],
      "execution_count": 137,
      "outputs": [
        {
          "output_type": "stream",
          "text": [
            "Best parameters: {'scale_pos_weight': 1}\n",
            "Best Mean Cross Validation Score is 0.8655730372561315\n",
            "Train score is 0.8682803649020634\n",
            "Test score is 0.8616171954964176\n"
          ],
          "name": "stdout"
        }
      ]
    },
    {
      "cell_type": "markdown",
      "metadata": {
        "id": "fX8UgUqZ3fAq"
      },
      "source": [
        "## Cost Sensitive Extra Tree"
      ]
    },
    {
      "cell_type": "code",
      "metadata": {
        "id": "fNfQ4m4Zwtzr",
        "colab": {
          "base_uri": "https://localhost:8080/"
        },
        "outputId": "87b190db-518d-4bc6-bd3a-89c6dae27588"
      },
      "source": [
        "#code snippet reference from classwork\n",
        "\n",
        "from  sklearn.ensemble import ExtraTreesClassifier\n",
        "\n",
        "etc= ExtraTreesClassifier(random_state=42)\n",
        "param_grid = {    \n",
        "    'class_weight': [{0:100,1:1}, {0:10,1:1}, {0:1,1:1}, {0:1,1:10}, {0:1,1:100}],\n",
        "}\n",
        "\n",
        "#apply grid search\n",
        "grid_ext= GridSearchCV(etc, param_grid, cv=5, n_jobs=2)\n",
        "grid_ext.fit(X_train, y_train)\n",
        "\n",
        "print(\"Best parameters: {}\".format(grid_ext.best_params_))\n",
        "print(\"Best Mean cross-validation score: {:.2f}\".format(grid_ext.best_score_))\n",
        "print(f'Train score is {grid_ext.score(X_train,y_train)}')\n",
        "print(f'Test score is {grid_ext.score(X_test,y_test)}')"
      ],
      "execution_count": 141,
      "outputs": [
        {
          "output_type": "stream",
          "text": [
            "Best parameters: {'class_weight': {0: 10, 1: 1}}\n",
            "Best Mean cross-validation score: 0.84\n",
            "Train score is 0.9999317514844052\n",
            "Test score is 0.8395087001023541\n"
          ],
          "name": "stdout"
        }
      ]
    },
    {
      "cell_type": "markdown",
      "metadata": {
        "id": "pwbaoXuS3jfw"
      },
      "source": [
        ""
      ]
    },
    {
      "cell_type": "markdown",
      "metadata": {
        "id": "hxISSQgcq-Mu"
      },
      "source": [
        "## Cost Sensitive Bagged decision trees with random undersampling"
      ]
    },
    {
      "cell_type": "code",
      "metadata": {
        "ExecuteTime": {
          "end_time": "2020-04-24T21:27:34.885215Z",
          "start_time": "2020-04-24T21:27:34.292060Z"
        },
        "id": "yK84qCkpq-Mu"
      },
      "source": [
        "from imblearn.ensemble import BalancedBaggingClassifier"
      ],
      "execution_count": 138,
      "outputs": []
    },
    {
      "cell_type": "code",
      "metadata": {
        "ExecuteTime": {
          "end_time": "2020-04-20T03:00:25.085614Z",
          "start_time": "2020-04-20T03:00:24.422411Z"
        },
        "id": "6GbnEB9xq-My",
        "colab": {
          "base_uri": "https://localhost:8080/"
        },
        "outputId": "7afe6779-96fe-4a04-dc87-21908f668d7b"
      },
      "source": [
        "# define model\n",
        "model = BalancedBaggingClassifier()\n",
        "# define evaluation procedure\n",
        "cv = RepeatedStratifiedKFold(n_splits=10, n_repeats=3, random_state=1)\n",
        "# evaluate model\n",
        "scores = cross_val_score(model,X_train,y_train, cv=cv, n_jobs=-1)\n",
        "# summarize performance\n",
        "print('Mean Accuracy: %.3f' % mean(scores))\n"
      ],
      "execution_count": 142,
      "outputs": [
        {
          "output_type": "stream",
          "text": [
            "Mean Accuracy: 0.834\n"
          ],
          "name": "stdout"
        }
      ]
    },
    {
      "cell_type": "markdown",
      "metadata": {
        "id": "nLTyPV8Hm3Zv"
      },
      "source": [
        "# Undersampling methods"
      ]
    },
    {
      "cell_type": "code",
      "metadata": {
        "id": "KB-Aa83cm7L2"
      },
      "source": [
        "from imblearn.under_sampling import RandomUnderSampler\n",
        "from imblearn.pipeline import Pipeline as imb_pipeline"
      ],
      "execution_count": 121,
      "outputs": []
    },
    {
      "cell_type": "markdown",
      "metadata": {
        "id": "76tTv1yAtsKi"
      },
      "source": [
        "## Logistic regression"
      ]
    },
    {
      "cell_type": "code",
      "metadata": {
        "ExecuteTime": {
          "end_time": "2020-04-19T02:43:26.773142Z",
          "start_time": "2020-04-19T02:43:25.679039Z"
        },
        "colab": {
          "base_uri": "https://localhost:8080/"
        },
        "id": "1dQpFf_6ouzD",
        "outputId": "8d57991c-64f1-4d84-b5ad-04671b6cba65"
      },
      "source": [
        "logreg = LogisticRegression(solver='lbfgs',max_iter=10000000)\n",
        "param_grid = {\n",
        "    \n",
        "    'class_weight': [{0:100,1:1}, {0:10,1:1}, {0:1,1:1}, {0:1,1:10}, {0:1,1:100}],\n",
        "}\n",
        "\n",
        "#apply grid search\n",
        "grid_logreg= GridSearchCV(logreg, param_grid, cv=5, n_jobs=2)\n",
        "grid_logreg.fit(X_train, y_train)\n",
        "\n",
        "print(\"Best parameters: {}\".format(grid_logreg.best_params_))\n",
        "print(f'Best Mean Cross Validation Score is {grid_logreg.best_score_}')\n",
        "print(f'Train score is {grid_logreg.score(X_train,y_train)}')\n",
        "print(f'Test score is {grid_logreg.score(X_test,y_test)}')"
      ],
      "execution_count": null,
      "outputs": [
        {
          "output_type": "stream",
          "text": [
            "Best parameters: {'class_weight': {0: 1, 1: 1}}\n",
            "Best Mean cross-validation score: 0.85\n"
          ],
          "name": "stdout"
        }
      ]
    },
    {
      "cell_type": "markdown",
      "metadata": {
        "id": "TpniqM_goCS4"
      },
      "source": [
        "## Decision Tree"
      ]
    },
    {
      "cell_type": "code",
      "metadata": {
        "ExecuteTime": {
          "end_time": "2020-04-24T17:42:04.821967Z",
          "start_time": "2020-04-24T17:42:02.334529Z"
        },
        "id": "jKjqjRGtttwH",
        "colab": {
          "base_uri": "https://localhost:8080/"
        },
        "outputId": "1212b602-78f5-47d5-c952-371a624bff09"
      },
      "source": [
        "# GridSearch with oversampling\n",
        "pipe_rand_under = imb_pipeline([('under', RandomUnderSampler()), ('model', DecisionTreeClassifier())])\n",
        "param_grid = {\n",
        "    # try different feature engineering parameters\n",
        "    'model__max_depth': [2,3,4,5,6],\n",
        "}\n",
        "\n",
        "#apply grid search\n",
        "grid_under= GridSearchCV(pipe_rand_under, param_grid, cv=5, n_jobs=2)\n",
        "grid_under.fit(X_train,y_train)\n",
        "\n",
        "print(\"Best parameters: {}\".format(grid_under.best_params_))\n",
        "print(\"Best Mean cross-validation score: {:.2f}\".format(grid_under.best_score_))\n",
        "print(f'Train score is {grid_under.score(X_train,y_train)}')\n",
        "print(f'Test score is {grid_under.score(X_test,y_test)}')"
      ],
      "execution_count": 125,
      "outputs": [
        {
          "output_type": "stream",
          "text": [
            "Best parameters: {'model__max_depth': 6}\n",
            "Best Mean cross-validation score: 0.80\n",
            "Train score is 0.7929340036854199\n",
            "Test score is 0.7920163766632549\n"
          ],
          "name": "stdout"
        },
        {
          "output_type": "stream",
          "text": [
            "/usr/local/lib/python3.6/dist-packages/sklearn/utils/deprecation.py:87: FutureWarning: Function safe_indexing is deprecated; safe_indexing is deprecated in version 0.22 and will be removed in version 0.24.\n",
            "  warnings.warn(msg, category=FutureWarning)\n"
          ],
          "name": "stderr"
        }
      ]
    },
    {
      "cell_type": "markdown",
      "metadata": {
        "id": "ccoq9VzHt7l6"
      },
      "source": [
        "## K Nearest Neighbours"
      ]
    },
    {
      "cell_type": "code",
      "metadata": {
        "id": "E5_Xy9rwm8Bt"
      },
      "source": [
        "from sklearn.neighbors import KNeighborsClassifier"
      ],
      "execution_count": 129,
      "outputs": []
    },
    {
      "cell_type": "code",
      "metadata": {
        "id": "-C5NgSQNuA4k"
      },
      "source": [
        ""
      ],
      "execution_count": null,
      "outputs": []
    }
  ]
}