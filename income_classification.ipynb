{
  "nbformat": 4,
  "nbformat_minor": 0,
  "metadata": {
    "colab": {
      "name": "income_classification.ipynb",
      "provenance": [],
      "collapsed_sections": [],
      "toc_visible": true,
      "authorship_tag": "ABX9TyNYoNOuG4Eqp71G3rdao2Qm",
      "include_colab_link": true
    },
    "kernelspec": {
      "name": "python3",
      "display_name": "Python 3"
    }
  },
  "cells": [
    {
      "cell_type": "markdown",
      "metadata": {
        "id": "view-in-github",
        "colab_type": "text"
      },
      "source": [
        "<a href=\"https://colab.research.google.com/github/rajadevineni/Income_classification/blob/main/income_classification.ipynb\" target=\"_parent\"><img src=\"https://colab.research.google.com/assets/colab-badge.svg\" alt=\"Open In Colab\"/></a>"
      ]
    },
    {
      "cell_type": "markdown",
      "metadata": {
        "id": "X1JiYBtmw3L5"
      },
      "source": [
        "# Importing libraries and dataset"
      ]
    },
    {
      "cell_type": "code",
      "metadata": {
        "id": "-cSZUBDmkTTK",
        "outputId": "e4c31dad-3ade-4963-b78f-2b4d53f98616",
        "colab": {
          "base_uri": "https://localhost:8080/"
        }
      },
      "source": [
        "!pip install feature_engine"
      ],
      "execution_count": 169,
      "outputs": [
        {
          "output_type": "stream",
          "text": [
            "Requirement already satisfied: feature_engine in /usr/local/lib/python3.6/dist-packages (0.6.1)\n",
            "Requirement already satisfied: statsmodels>=0.11.1 in /usr/local/lib/python3.6/dist-packages (from feature_engine) (0.12.1)\n",
            "Requirement already satisfied: scipy>=1.4.1 in /usr/local/lib/python3.6/dist-packages (from feature_engine) (1.4.1)\n",
            "Requirement already satisfied: scikit-learn>=0.22.2 in /usr/local/lib/python3.6/dist-packages (from feature_engine) (0.22.2.post1)\n",
            "Requirement already satisfied: pandas>=1.0.3 in /usr/local/lib/python3.6/dist-packages (from feature_engine) (1.1.4)\n",
            "Requirement already satisfied: numpy>=1.18.2 in /usr/local/lib/python3.6/dist-packages (from feature_engine) (1.18.5)\n",
            "Requirement already satisfied: patsy>=0.5 in /usr/local/lib/python3.6/dist-packages (from statsmodels>=0.11.1->feature_engine) (0.5.1)\n",
            "Requirement already satisfied: joblib>=0.11 in /usr/local/lib/python3.6/dist-packages (from scikit-learn>=0.22.2->feature_engine) (0.17.0)\n",
            "Requirement already satisfied: pytz>=2017.2 in /usr/local/lib/python3.6/dist-packages (from pandas>=1.0.3->feature_engine) (2018.9)\n",
            "Requirement already satisfied: python-dateutil>=2.7.3 in /usr/local/lib/python3.6/dist-packages (from pandas>=1.0.3->feature_engine) (2.8.1)\n",
            "Requirement already satisfied: six in /usr/local/lib/python3.6/dist-packages (from patsy>=0.5->statsmodels>=0.11.1->feature_engine) (1.15.0)\n"
          ],
          "name": "stdout"
        }
      ]
    },
    {
      "cell_type": "code",
      "metadata": {
        "id": "VGl9939rk48u"
      },
      "source": [
        "from math import sqrt\n",
        "import pandas as pd\n",
        "import numpy as np\n",
        "import matplotlib.pyplot as plt\n",
        "import seaborn as sns\n",
        "import scipy.stats as stats\n",
        "from pathlib import Path\n",
        "\n",
        "pd.pandas.set_option('display.max_columns', None)\n",
        "%matplotlib inline"
      ],
      "execution_count": 170,
      "outputs": []
    },
    {
      "cell_type": "markdown",
      "metadata": {
        "id": "PGTh5IO3ynqe"
      },
      "source": [
        "## Grid Search import"
      ]
    },
    {
      "cell_type": "code",
      "metadata": {
        "id": "yFwYJGbksrYH"
      },
      "source": [
        "from sklearn.model_selection import GridSearchCV\n",
        "from sklearn.model_selection import cross_val_score"
      ],
      "execution_count": 171,
      "outputs": []
    },
    {
      "cell_type": "markdown",
      "metadata": {
        "id": "iFIdx37bsK09"
      },
      "source": [
        "# Load dataset"
      ]
    },
    {
      "cell_type": "code",
      "metadata": {
        "ExecuteTime": {
          "end_time": "2020-03-09T07:32:50.854852Z",
          "start_time": "2020-03-09T07:32:50.812739Z"
        },
        "id": "Xb2ctCx_sK0-",
        "outputId": "60b021e1-19a7-406c-87c8-b56105a8f167",
        "colab": {
          "base_uri": "https://localhost:8080/",
          "height": 340
        }
      },
      "source": [
        "# load dataset\n",
        "# Dataset is extracted from https://sci2s.ugr.es/keel/dataset.php?cod=192\n",
        "\n",
        "path = \"https://raw.githubusercontent.com/rajadevineni/Income_classification/main/adult.csv\"\n",
        "data = pd.read_csv(path)\n",
        "print('Number of records in the Dataset: ', len(data))\n",
        "print('Number of features in the Dataset: ', data.shape[1])\n",
        "data.head(5)"
      ],
      "execution_count": 286,
      "outputs": [
        {
          "output_type": "stream",
          "text": [
            "Number of records in the Dataset:  48842\n",
            "Number of features in the Dataset:  15\n"
          ],
          "name": "stdout"
        },
        {
          "output_type": "execute_result",
          "data": {
            "text/html": [
              "<div>\n",
              "<style scoped>\n",
              "    .dataframe tbody tr th:only-of-type {\n",
              "        vertical-align: middle;\n",
              "    }\n",
              "\n",
              "    .dataframe tbody tr th {\n",
              "        vertical-align: top;\n",
              "    }\n",
              "\n",
              "    .dataframe thead th {\n",
              "        text-align: right;\n",
              "    }\n",
              "</style>\n",
              "<table border=\"1\" class=\"dataframe\">\n",
              "  <thead>\n",
              "    <tr style=\"text-align: right;\">\n",
              "      <th></th>\n",
              "      <th>Age</th>\n",
              "      <th>Workclass</th>\n",
              "      <th>Fnlwgt</th>\n",
              "      <th>Education</th>\n",
              "      <th>Education-num</th>\n",
              "      <th>Marital-status</th>\n",
              "      <th>Occupation</th>\n",
              "      <th>Relationship</th>\n",
              "      <th>Race</th>\n",
              "      <th>Sex</th>\n",
              "      <th>Capital-gain</th>\n",
              "      <th>Capital-loss</th>\n",
              "      <th>Hours-per-week</th>\n",
              "      <th>Native-country</th>\n",
              "      <th>Class</th>\n",
              "    </tr>\n",
              "  </thead>\n",
              "  <tbody>\n",
              "    <tr>\n",
              "      <th>0</th>\n",
              "      <td>25</td>\n",
              "      <td>Private</td>\n",
              "      <td>226802</td>\n",
              "      <td>11th</td>\n",
              "      <td>7</td>\n",
              "      <td>Never-married</td>\n",
              "      <td>Machine-op-inspct</td>\n",
              "      <td>Own-child</td>\n",
              "      <td>Black</td>\n",
              "      <td>Male</td>\n",
              "      <td>0</td>\n",
              "      <td>0</td>\n",
              "      <td>40</td>\n",
              "      <td>United-States</td>\n",
              "      <td>&lt;=50K</td>\n",
              "    </tr>\n",
              "    <tr>\n",
              "      <th>1</th>\n",
              "      <td>38</td>\n",
              "      <td>Private</td>\n",
              "      <td>89814</td>\n",
              "      <td>HS-grad</td>\n",
              "      <td>9</td>\n",
              "      <td>Married-civ-spouse</td>\n",
              "      <td>Farming-fishing</td>\n",
              "      <td>Husband</td>\n",
              "      <td>White</td>\n",
              "      <td>Male</td>\n",
              "      <td>0</td>\n",
              "      <td>0</td>\n",
              "      <td>50</td>\n",
              "      <td>United-States</td>\n",
              "      <td>&lt;=50K</td>\n",
              "    </tr>\n",
              "    <tr>\n",
              "      <th>2</th>\n",
              "      <td>28</td>\n",
              "      <td>Local-gov</td>\n",
              "      <td>336951</td>\n",
              "      <td>Assoc-acdm</td>\n",
              "      <td>12</td>\n",
              "      <td>Married-civ-spouse</td>\n",
              "      <td>Protective-serv</td>\n",
              "      <td>Husband</td>\n",
              "      <td>White</td>\n",
              "      <td>Male</td>\n",
              "      <td>0</td>\n",
              "      <td>0</td>\n",
              "      <td>40</td>\n",
              "      <td>United-States</td>\n",
              "      <td>&gt;50K</td>\n",
              "    </tr>\n",
              "    <tr>\n",
              "      <th>3</th>\n",
              "      <td>44</td>\n",
              "      <td>Private</td>\n",
              "      <td>160323</td>\n",
              "      <td>Some-college</td>\n",
              "      <td>10</td>\n",
              "      <td>Married-civ-spouse</td>\n",
              "      <td>Machine-op-inspct</td>\n",
              "      <td>Husband</td>\n",
              "      <td>Black</td>\n",
              "      <td>Male</td>\n",
              "      <td>7688</td>\n",
              "      <td>0</td>\n",
              "      <td>40</td>\n",
              "      <td>United-States</td>\n",
              "      <td>&gt;50K</td>\n",
              "    </tr>\n",
              "    <tr>\n",
              "      <th>4</th>\n",
              "      <td>18</td>\n",
              "      <td>NaN</td>\n",
              "      <td>103497</td>\n",
              "      <td>Some-college</td>\n",
              "      <td>10</td>\n",
              "      <td>Never-married</td>\n",
              "      <td>NaN</td>\n",
              "      <td>Own-child</td>\n",
              "      <td>White</td>\n",
              "      <td>Female</td>\n",
              "      <td>0</td>\n",
              "      <td>0</td>\n",
              "      <td>30</td>\n",
              "      <td>United-States</td>\n",
              "      <td>&lt;=50K</td>\n",
              "    </tr>\n",
              "  </tbody>\n",
              "</table>\n",
              "</div>"
            ],
            "text/plain": [
              "   Age  Workclass  Fnlwgt     Education  Education-num      Marital-status  \\\n",
              "0   25    Private  226802          11th              7       Never-married   \n",
              "1   38    Private   89814       HS-grad              9  Married-civ-spouse   \n",
              "2   28  Local-gov  336951    Assoc-acdm             12  Married-civ-spouse   \n",
              "3   44    Private  160323  Some-college             10  Married-civ-spouse   \n",
              "4   18        NaN  103497  Some-college             10       Never-married   \n",
              "\n",
              "          Occupation Relationship   Race     Sex  Capital-gain  Capital-loss  \\\n",
              "0  Machine-op-inspct    Own-child  Black    Male             0             0   \n",
              "1    Farming-fishing      Husband  White    Male             0             0   \n",
              "2    Protective-serv      Husband  White    Male             0             0   \n",
              "3  Machine-op-inspct      Husband  Black    Male          7688             0   \n",
              "4                NaN    Own-child  White  Female             0             0   \n",
              "\n",
              "   Hours-per-week Native-country  Class  \n",
              "0              40  United-States  <=50K  \n",
              "1              50  United-States  <=50K  \n",
              "2              40  United-States   >50K  \n",
              "3              40  United-States   >50K  \n",
              "4              30  United-States  <=50K  "
            ]
          },
          "metadata": {
            "tags": []
          },
          "execution_count": 286
        }
      ]
    },
    {
      "cell_type": "markdown",
      "metadata": {
        "id": "-EheMIyXhMPI"
      },
      "source": [
        "# Inspecting and exploring the data"
      ]
    },
    {
      "cell_type": "markdown",
      "metadata": {
        "id": "q-x14LHMadm9"
      },
      "source": [
        "## Setting up Target variable\n",
        "\n",
        "* Since the target variable \"Class\" is in string we need to convert it to Binary variable for the predictions, Hence we create a new binary variable callled \"Target\""
      ]
    },
    {
      "cell_type": "code",
      "metadata": {
        "id": "5POLaWfPPJ-C"
      },
      "source": [
        "data['Class'] = data['Class'].replace('>50K',1)\n",
        "data['Class'] = data['Class'].replace('<=50K',0)"
      ],
      "execution_count": 324,
      "outputs": []
    },
    {
      "cell_type": "code",
      "metadata": {
        "id": "8mEJSrjGA5T5",
        "outputId": "1619ca7e-e558-4cfd-df1c-480efb5bf530",
        "colab": {
          "base_uri": "https://localhost:8080/"
        }
      },
      "source": [
        "data['Class'].value_counts()"
      ],
      "execution_count": 320,
      "outputs": [
        {
          "output_type": "execute_result",
          "data": {
            "text/plain": [
              "<=50K    37155\n",
              ">50K     11687\n",
              "Name: Class, dtype: int64"
            ]
          },
          "metadata": {
            "tags": []
          },
          "execution_count": 320
        }
      ]
    },
    {
      "cell_type": "code",
      "metadata": {
        "id": "Ep_xBRA8Bfc8",
        "outputId": "345b7a3c-cf91-4741-de53-5aea0c66dd7a",
        "colab": {
          "base_uri": "https://localhost:8080/"
        }
      },
      "source": [
        "(data[data['Class']=='>50K'].shape[0]/data.shape[0])*100"
      ],
      "execution_count": 322,
      "outputs": [
        {
          "output_type": "execute_result",
          "data": {
            "text/plain": [
              "23.928176569346054"
            ]
          },
          "metadata": {
            "tags": []
          },
          "execution_count": 322
        }
      ]
    },
    {
      "cell_type": "code",
      "metadata": {
        "id": "yQefOAJrORX5",
        "outputId": "f84f6749-2a94-4771-8dfe-4c458179744c",
        "colab": {
          "base_uri": "https://localhost:8080/",
          "height": 306
        }
      },
      "source": [
        "data.head(5)"
      ],
      "execution_count": 18,
      "outputs": [
        {
          "output_type": "execute_result",
          "data": {
            "text/html": [
              "<div>\n",
              "<style scoped>\n",
              "    .dataframe tbody tr th:only-of-type {\n",
              "        vertical-align: middle;\n",
              "    }\n",
              "\n",
              "    .dataframe tbody tr th {\n",
              "        vertical-align: top;\n",
              "    }\n",
              "\n",
              "    .dataframe thead th {\n",
              "        text-align: right;\n",
              "    }\n",
              "</style>\n",
              "<table border=\"1\" class=\"dataframe\">\n",
              "  <thead>\n",
              "    <tr style=\"text-align: right;\">\n",
              "      <th></th>\n",
              "      <th>Age</th>\n",
              "      <th>Workclass</th>\n",
              "      <th>Fnlwgt</th>\n",
              "      <th>Education</th>\n",
              "      <th>Education-num</th>\n",
              "      <th>Marital-status</th>\n",
              "      <th>Occupation</th>\n",
              "      <th>Relationship</th>\n",
              "      <th>Race</th>\n",
              "      <th>Sex</th>\n",
              "      <th>Capital-gain</th>\n",
              "      <th>Capital-loss</th>\n",
              "      <th>Hours-per-week</th>\n",
              "      <th>Native-country</th>\n",
              "      <th>Class</th>\n",
              "    </tr>\n",
              "  </thead>\n",
              "  <tbody>\n",
              "    <tr>\n",
              "      <th>0</th>\n",
              "      <td>25</td>\n",
              "      <td>Private</td>\n",
              "      <td>226802</td>\n",
              "      <td>11th</td>\n",
              "      <td>7</td>\n",
              "      <td>Never-married</td>\n",
              "      <td>Machine-op-inspct</td>\n",
              "      <td>Own-child</td>\n",
              "      <td>Black</td>\n",
              "      <td>Male</td>\n",
              "      <td>0</td>\n",
              "      <td>0</td>\n",
              "      <td>40</td>\n",
              "      <td>United-States</td>\n",
              "      <td>&lt;=50K</td>\n",
              "    </tr>\n",
              "    <tr>\n",
              "      <th>1</th>\n",
              "      <td>38</td>\n",
              "      <td>Private</td>\n",
              "      <td>89814</td>\n",
              "      <td>HS-grad</td>\n",
              "      <td>9</td>\n",
              "      <td>Married-civ-spouse</td>\n",
              "      <td>Farming-fishing</td>\n",
              "      <td>Husband</td>\n",
              "      <td>White</td>\n",
              "      <td>Male</td>\n",
              "      <td>0</td>\n",
              "      <td>0</td>\n",
              "      <td>50</td>\n",
              "      <td>United-States</td>\n",
              "      <td>&lt;=50K</td>\n",
              "    </tr>\n",
              "    <tr>\n",
              "      <th>2</th>\n",
              "      <td>28</td>\n",
              "      <td>Local-gov</td>\n",
              "      <td>336951</td>\n",
              "      <td>Assoc-acdm</td>\n",
              "      <td>12</td>\n",
              "      <td>Married-civ-spouse</td>\n",
              "      <td>Protective-serv</td>\n",
              "      <td>Husband</td>\n",
              "      <td>White</td>\n",
              "      <td>Male</td>\n",
              "      <td>0</td>\n",
              "      <td>0</td>\n",
              "      <td>40</td>\n",
              "      <td>United-States</td>\n",
              "      <td>&gt;50K</td>\n",
              "    </tr>\n",
              "    <tr>\n",
              "      <th>3</th>\n",
              "      <td>44</td>\n",
              "      <td>Private</td>\n",
              "      <td>160323</td>\n",
              "      <td>Some-college</td>\n",
              "      <td>10</td>\n",
              "      <td>Married-civ-spouse</td>\n",
              "      <td>Machine-op-inspct</td>\n",
              "      <td>Husband</td>\n",
              "      <td>Black</td>\n",
              "      <td>Male</td>\n",
              "      <td>7688</td>\n",
              "      <td>0</td>\n",
              "      <td>40</td>\n",
              "      <td>United-States</td>\n",
              "      <td>&gt;50K</td>\n",
              "    </tr>\n",
              "    <tr>\n",
              "      <th>4</th>\n",
              "      <td>18</td>\n",
              "      <td>NaN</td>\n",
              "      <td>103497</td>\n",
              "      <td>Some-college</td>\n",
              "      <td>10</td>\n",
              "      <td>Never-married</td>\n",
              "      <td>NaN</td>\n",
              "      <td>Own-child</td>\n",
              "      <td>White</td>\n",
              "      <td>Female</td>\n",
              "      <td>0</td>\n",
              "      <td>0</td>\n",
              "      <td>30</td>\n",
              "      <td>United-States</td>\n",
              "      <td>&lt;=50K</td>\n",
              "    </tr>\n",
              "  </tbody>\n",
              "</table>\n",
              "</div>"
            ],
            "text/plain": [
              "   Age  Workclass  Fnlwgt     Education  Education-num      Marital-status  \\\n",
              "0   25    Private  226802          11th              7       Never-married   \n",
              "1   38    Private   89814       HS-grad              9  Married-civ-spouse   \n",
              "2   28  Local-gov  336951    Assoc-acdm             12  Married-civ-spouse   \n",
              "3   44    Private  160323  Some-college             10  Married-civ-spouse   \n",
              "4   18        NaN  103497  Some-college             10       Never-married   \n",
              "\n",
              "          Occupation Relationship   Race     Sex  Capital-gain  Capital-loss  \\\n",
              "0  Machine-op-inspct    Own-child  Black    Male             0             0   \n",
              "1    Farming-fishing      Husband  White    Male             0             0   \n",
              "2    Protective-serv      Husband  White    Male             0             0   \n",
              "3  Machine-op-inspct      Husband  Black    Male          7688             0   \n",
              "4                NaN    Own-child  White  Female             0             0   \n",
              "\n",
              "   Hours-per-week Native-country  Class  \n",
              "0              40  United-States  <=50K  \n",
              "1              50  United-States  <=50K  \n",
              "2              40  United-States   >50K  \n",
              "3              40  United-States   >50K  \n",
              "4              30  United-States  <=50K  "
            ]
          },
          "metadata": {
            "tags": []
          },
          "execution_count": 18
        }
      ]
    },
    {
      "cell_type": "markdown",
      "metadata": {
        "id": "m7fpXiMNsK1B"
      },
      "source": [
        "## Types of variables\n",
        "\n"
      ]
    },
    {
      "cell_type": "code",
      "metadata": {
        "ExecuteTime": {
          "end_time": "2020-03-09T07:32:53.140553Z",
          "start_time": "2020-03-09T07:32:53.135036Z"
        },
        "id": "bxDr9ifMsK1H",
        "outputId": "356ce5fc-ae57-493d-c173-0380abc3c2be",
        "colab": {
          "base_uri": "https://localhost:8080/"
        }
      },
      "source": [
        "# List for categorical variables\n",
        "categorical = [var for var in data.columns if data[var].dtype=='O']\n",
        "\n",
        "# List for numerical variables\n",
        "numerical = [var for var in data.columns if data[var].dtype!='O']\n",
        "\n",
        "# list of variables that contain year information\n",
        "year_vars = [var for var in numerical if 'Yr' in var or 'Year' in var]\n",
        "\n",
        "#To identify discrete variables- numerical variables with less than 20 unique values \n",
        "# List for discrete variables\n",
        "discrete = [var for var in numerical if len(data[var].unique()) < 20 and var not in year_vars]\n",
        "\n",
        "# List for continuous variables\n",
        "continuous = [var for var in numerical if var not in discrete and var not in [\n",
        "    'id', 'target'] and var not in year_vars]\n",
        "\n",
        "print(f'There are {len(categorical)} categorical variables:',categorical)\n",
        "print(f'There are {len(numerical)} numerical variables:',numerical)\n",
        "print(f'There are {len(year_vars)} temporal variables:',year_vars)\n",
        "print(f'There are {len(discrete)} discrete variables:', discrete)\n",
        "print(f'There are {len(continuous)} continuous variables:', continuous)"
      ],
      "execution_count": 19,
      "outputs": [
        {
          "output_type": "stream",
          "text": [
            "There are 9 categorical variables: ['Workclass', 'Education', 'Marital-status', 'Occupation', 'Relationship', 'Race', 'Sex', 'Native-country', 'Class']\n",
            "There are 6 numerical variables: ['Age', 'Fnlwgt', 'Education-num', 'Capital-gain', 'Capital-loss', 'Hours-per-week']\n",
            "There are 0 temporal variables: []\n",
            "There are 1 discrete variables: ['Education-num']\n",
            "There are 5 continuous variables: ['Age', 'Fnlwgt', 'Capital-gain', 'Capital-loss', 'Hours-per-week']\n"
          ],
          "name": "stdout"
        }
      ]
    },
    {
      "cell_type": "markdown",
      "metadata": {
        "id": "cIlEzSmmw6F9"
      },
      "source": [
        "## Inspecting Data"
      ]
    },
    {
      "cell_type": "markdown",
      "metadata": {
        "id": "fcw-BwAhyC5N"
      },
      "source": [
        "### Checking for null values in the dataset\n",
        "\n",
        "* There are null values in Workclass, Occupation and Native-country column"
      ]
    },
    {
      "cell_type": "code",
      "metadata": {
        "id": "swJwIMGZ0NO7",
        "outputId": "930e1716-f355-4664-a252-9e8db96095c8",
        "colab": {
          "base_uri": "https://localhost:8080/"
        }
      },
      "source": [
        "print(data.isna().sum())\n",
        "#print(data.isnull().mean())"
      ],
      "execution_count": 20,
      "outputs": [
        {
          "output_type": "stream",
          "text": [
            "Age                  0\n",
            "Workclass         2799\n",
            "Fnlwgt               0\n",
            "Education            0\n",
            "Education-num        0\n",
            "Marital-status       0\n",
            "Occupation        2809\n",
            "Relationship         0\n",
            "Race                 0\n",
            "Sex                  0\n",
            "Capital-gain         0\n",
            "Capital-loss         0\n",
            "Hours-per-week       0\n",
            "Native-country     857\n",
            "Class                0\n",
            "dtype: int64\n"
          ],
          "name": "stdout"
        }
      ]
    },
    {
      "cell_type": "markdown",
      "metadata": {
        "id": "JTr59XUjyUiY"
      },
      "source": [
        "### Inspecting the variable values"
      ]
    },
    {
      "cell_type": "markdown",
      "metadata": {
        "id": "VRU024v0-UTz"
      },
      "source": [
        "* Education-num column is the ordinal representation of Education column, therefore we can drop Education-num column"
      ]
    },
    {
      "cell_type": "code",
      "metadata": {
        "ExecuteTime": {
          "end_time": "2020-03-09T07:31:14.669575Z",
          "start_time": "2020-03-09T07:31:14.655034Z"
        },
        "code_folding": [],
        "id": "Vj8Y9zesldQr",
        "outputId": "8904edf3-3d0d-4c42-d178-0e5c782263c5",
        "colab": {
          "base_uri": "https://localhost:8080/"
        }
      },
      "source": [
        "for var in data.columns:\n",
        "    print(var, data[var].unique()[0:20], '\\n')"
      ],
      "execution_count": 21,
      "outputs": [
        {
          "output_type": "stream",
          "text": [
            "Age [25 38 28 44 18 34 29 63 24 55 65 36 26 58 48 43 20 37 40 72] \n",
            "\n",
            "Workclass ['Private' 'Local-gov' nan 'Self-emp-not-inc' 'Federal-gov' 'State-gov'\n",
            " 'Self-emp-inc' 'Without-pay' 'Never-worked'] \n",
            "\n",
            "Fnlwgt [226802  89814 336951 160323 103497 198693 227026 104626 369667 104996\n",
            " 184454 212465  82091 299831 279724 346189 444554 128354  60548  85019] \n",
            "\n",
            "Education ['11th' 'HS-grad' 'Assoc-acdm' 'Some-college' '10th' 'Prof-school'\n",
            " '7th-8th' 'Bachelors' 'Masters' 'Doctorate' '5th-6th' 'Assoc-voc' '9th'\n",
            " '12th' '1st-4th' 'Preschool'] \n",
            "\n",
            "Education-num [ 7  9 12 10  6 15  4 13 14 16  3 11  5  8  2  1] \n",
            "\n",
            "Marital-status ['Never-married' 'Married-civ-spouse' 'Widowed' 'Divorced' 'Separated'\n",
            " 'Married-spouse-absent' 'Married-AF-spouse'] \n",
            "\n",
            "Occupation ['Machine-op-inspct' 'Farming-fishing' 'Protective-serv' nan\n",
            " 'Other-service' 'Prof-specialty' 'Craft-repair' 'Adm-clerical'\n",
            " 'Exec-managerial' 'Tech-support' 'Sales' 'Priv-house-serv'\n",
            " 'Transport-moving' 'Handlers-cleaners' 'Armed-Forces'] \n",
            "\n",
            "Relationship ['Own-child' 'Husband' 'Not-in-family' 'Unmarried' 'Wife' 'Other-relative'] \n",
            "\n",
            "Race ['Black' 'White' 'Asian-Pac-Islander' 'Other' 'Amer-Indian-Eskimo'] \n",
            "\n",
            "Sex ['Male' 'Female'] \n",
            "\n",
            "Capital-gain [    0  7688  3103  6418  7298  3908 14084  5178 15024 99999  2597  2907\n",
            "  4650  6497  1055  5013 27828  4934  4064  3674] \n",
            "\n",
            "Capital-loss [   0 1721 1876 2415 1887  625 1977 2057 1429 1590 1485 2051 2377 1672\n",
            " 1628 1902 1602 1741 2444 1408] \n",
            "\n",
            "Hours-per-week [40 50 30 32 10 39 35 48 25 20 45 47  6 43 90 54 60 38 36 18] \n",
            "\n",
            "Native-country ['United-States' nan 'Peru' 'Guatemala' 'Mexico' 'Dominican-Republic'\n",
            " 'Ireland' 'Germany' 'Philippines' 'Thailand' 'Haiti' 'El-Salvador'\n",
            " 'Puerto-Rico' 'Vietnam' 'South' 'Columbia' 'Japan' 'India' 'Cambodia'\n",
            " 'Poland'] \n",
            "\n",
            "Class ['<=50K' '>50K'] \n",
            "\n"
          ],
          "name": "stdout"
        }
      ]
    },
    {
      "cell_type": "markdown",
      "metadata": {
        "id": "FUrBydH7YYXa"
      },
      "source": [
        "### cardinality (number of different categories)"
      ]
    },
    {
      "cell_type": "code",
      "metadata": {
        "id": "aJbHMtT_YHmX",
        "outputId": "4dd41074-245d-4d14-d9b4-7439d53de945",
        "colab": {
          "base_uri": "https://localhost:8080/"
        }
      },
      "source": [
        "data.nunique()"
      ],
      "execution_count": 134,
      "outputs": [
        {
          "output_type": "execute_result",
          "data": {
            "text/plain": [
              "Age                  74\n",
              "Workclass             8\n",
              "Fnlwgt            28523\n",
              "Education            16\n",
              "Education-num        16\n",
              "Marital-status        7\n",
              "Occupation           14\n",
              "Relationship          6\n",
              "Race                  5\n",
              "Sex                   2\n",
              "Capital-gain        123\n",
              "Capital-loss         99\n",
              "Hours-per-week       96\n",
              "Native-country       41\n",
              "Class                 2\n",
              "dtype: int64"
            ]
          },
          "metadata": {
            "tags": []
          },
          "execution_count": 134
        }
      ]
    },
    {
      "cell_type": "markdown",
      "metadata": {
        "id": "jByVvHgqmPYD"
      },
      "source": [
        "# Exploratory analysis on the dataset"
      ]
    },
    {
      "cell_type": "code",
      "metadata": {
        "id": "yPfyG1hHsuGJ",
        "outputId": "fb5491de-a49a-4368-f971-f93532a85205",
        "colab": {
          "base_uri": "https://localhost:8080/",
          "height": 297
        }
      },
      "source": [
        "data.describe()"
      ],
      "execution_count": 23,
      "outputs": [
        {
          "output_type": "execute_result",
          "data": {
            "text/html": [
              "<div>\n",
              "<style scoped>\n",
              "    .dataframe tbody tr th:only-of-type {\n",
              "        vertical-align: middle;\n",
              "    }\n",
              "\n",
              "    .dataframe tbody tr th {\n",
              "        vertical-align: top;\n",
              "    }\n",
              "\n",
              "    .dataframe thead th {\n",
              "        text-align: right;\n",
              "    }\n",
              "</style>\n",
              "<table border=\"1\" class=\"dataframe\">\n",
              "  <thead>\n",
              "    <tr style=\"text-align: right;\">\n",
              "      <th></th>\n",
              "      <th>Age</th>\n",
              "      <th>Fnlwgt</th>\n",
              "      <th>Education-num</th>\n",
              "      <th>Capital-gain</th>\n",
              "      <th>Capital-loss</th>\n",
              "      <th>Hours-per-week</th>\n",
              "    </tr>\n",
              "  </thead>\n",
              "  <tbody>\n",
              "    <tr>\n",
              "      <th>count</th>\n",
              "      <td>48842.000000</td>\n",
              "      <td>4.884200e+04</td>\n",
              "      <td>48842.000000</td>\n",
              "      <td>48842.000000</td>\n",
              "      <td>48842.000000</td>\n",
              "      <td>48842.000000</td>\n",
              "    </tr>\n",
              "    <tr>\n",
              "      <th>mean</th>\n",
              "      <td>38.643585</td>\n",
              "      <td>1.896641e+05</td>\n",
              "      <td>10.078089</td>\n",
              "      <td>1079.067626</td>\n",
              "      <td>87.502314</td>\n",
              "      <td>40.422382</td>\n",
              "    </tr>\n",
              "    <tr>\n",
              "      <th>std</th>\n",
              "      <td>13.710510</td>\n",
              "      <td>1.056040e+05</td>\n",
              "      <td>2.570973</td>\n",
              "      <td>7452.019058</td>\n",
              "      <td>403.004552</td>\n",
              "      <td>12.391444</td>\n",
              "    </tr>\n",
              "    <tr>\n",
              "      <th>min</th>\n",
              "      <td>17.000000</td>\n",
              "      <td>1.228500e+04</td>\n",
              "      <td>1.000000</td>\n",
              "      <td>0.000000</td>\n",
              "      <td>0.000000</td>\n",
              "      <td>1.000000</td>\n",
              "    </tr>\n",
              "    <tr>\n",
              "      <th>25%</th>\n",
              "      <td>28.000000</td>\n",
              "      <td>1.175505e+05</td>\n",
              "      <td>9.000000</td>\n",
              "      <td>0.000000</td>\n",
              "      <td>0.000000</td>\n",
              "      <td>40.000000</td>\n",
              "    </tr>\n",
              "    <tr>\n",
              "      <th>50%</th>\n",
              "      <td>37.000000</td>\n",
              "      <td>1.781445e+05</td>\n",
              "      <td>10.000000</td>\n",
              "      <td>0.000000</td>\n",
              "      <td>0.000000</td>\n",
              "      <td>40.000000</td>\n",
              "    </tr>\n",
              "    <tr>\n",
              "      <th>75%</th>\n",
              "      <td>48.000000</td>\n",
              "      <td>2.376420e+05</td>\n",
              "      <td>12.000000</td>\n",
              "      <td>0.000000</td>\n",
              "      <td>0.000000</td>\n",
              "      <td>45.000000</td>\n",
              "    </tr>\n",
              "    <tr>\n",
              "      <th>max</th>\n",
              "      <td>90.000000</td>\n",
              "      <td>1.490400e+06</td>\n",
              "      <td>16.000000</td>\n",
              "      <td>99999.000000</td>\n",
              "      <td>4356.000000</td>\n",
              "      <td>99.000000</td>\n",
              "    </tr>\n",
              "  </tbody>\n",
              "</table>\n",
              "</div>"
            ],
            "text/plain": [
              "                Age        Fnlwgt  Education-num  Capital-gain  Capital-loss  \\\n",
              "count  48842.000000  4.884200e+04   48842.000000  48842.000000  48842.000000   \n",
              "mean      38.643585  1.896641e+05      10.078089   1079.067626     87.502314   \n",
              "std       13.710510  1.056040e+05       2.570973   7452.019058    403.004552   \n",
              "min       17.000000  1.228500e+04       1.000000      0.000000      0.000000   \n",
              "25%       28.000000  1.175505e+05       9.000000      0.000000      0.000000   \n",
              "50%       37.000000  1.781445e+05      10.000000      0.000000      0.000000   \n",
              "75%       48.000000  2.376420e+05      12.000000      0.000000      0.000000   \n",
              "max       90.000000  1.490400e+06      16.000000  99999.000000   4356.000000   \n",
              "\n",
              "       Hours-per-week  \n",
              "count    48842.000000  \n",
              "mean        40.422382  \n",
              "std         12.391444  \n",
              "min          1.000000  \n",
              "25%         40.000000  \n",
              "50%         40.000000  \n",
              "75%         45.000000  \n",
              "max         99.000000  "
            ]
          },
          "metadata": {
            "tags": []
          },
          "execution_count": 23
        }
      ]
    },
    {
      "cell_type": "markdown",
      "metadata": {
        "id": "fqBEQJ7e1Dju"
      },
      "source": [
        "### Creating correlation matrix\n",
        "* There is no significant correlation between any features"
      ]
    },
    {
      "cell_type": "code",
      "metadata": {
        "id": "o2amXQXlpF2b",
        "outputId": "4ec2f4b6-1834-4b86-e234-829dba82debc",
        "colab": {
          "base_uri": "https://localhost:8080/",
          "height": 409
        }
      },
      "source": [
        "# data.corr(method='pearson', min_periods=1)\n",
        "# Correlation matrix\n",
        "correlation_matrix = data.corr().round(2)\n",
        "figure = plt.figure(figsize=(5, 5))\n",
        "sns.heatmap(data=correlation_matrix, annot=True)"
      ],
      "execution_count": 71,
      "outputs": [
        {
          "output_type": "execute_result",
          "data": {
            "text/plain": [
              "<matplotlib.axes._subplots.AxesSubplot at 0x7fa2fa668c88>"
            ]
          },
          "metadata": {
            "tags": []
          },
          "execution_count": 71
        },
        {
          "output_type": "display_data",
          "data": {
            "image/png": "[encoded data removed]",
            "text/plain": [
              "<Figure size 360x360 with 2 Axes>"
            ]
          },
          "metadata": {
            "tags": [],
            "needs_background": "light"
          }
        }
      ]
    },
    {
      "cell_type": "markdown",
      "metadata": {
        "id": "pxVF9_odqQV3"
      },
      "source": [
        "## Exploring distribution and outliers in the dataset"
      ]
    },
    {
      "cell_type": "markdown",
      "metadata": {
        "id": "v6TzZybN8Jfh"
      },
      "source": [
        "### Capital gain distribution based on Income class\n",
        "* This distribution graphs tells us that the outliers based on capital-gains are mostly in >50K class. \n",
        "* IF we choose to put a cap based on Capital-Gain then the outliers can be filtered out from Capital-gain>20000 "
      ]
    },
    {
      "cell_type": "code",
      "metadata": {
        "id": "NSKNU7xP3HQO",
        "outputId": "70bbace8-094a-4471-e42a-2a90e5579b0b",
        "colab": {
          "base_uri": "https://localhost:8080/",
          "height": 369
        }
      },
      "source": [
        "ax = sns.displot(data, x=\"Capital-gain\", hue ='Class')\n",
        "plt.show()"
      ],
      "execution_count": 111,
      "outputs": [
        {
          "output_type": "display_data",
          "data": {
            "image/png": "[encoded data removed]",
            "text/plain": [
              "<Figure size 431.75x360 with 1 Axes>"
            ]
          },
          "metadata": {
            "tags": [],
            "needs_background": "light"
          }
        }
      ]
    },
    {
      "cell_type": "markdown",
      "metadata": {
        "id": "-oPme0XmVbl9"
      },
      "source": [
        "### Distibution of Fnlwgt based on income Class\n",
        "* This graph is skewed towards right, we will perform a scalar transformation on this variable in upcoming fature engineering steps"
      ]
    },
    {
      "cell_type": "code",
      "metadata": {
        "id": "rERfs4-E-LAe",
        "outputId": "254722cf-deca-42a7-fb02-6b72bec7f12d",
        "colab": {
          "base_uri": "https://localhost:8080/",
          "height": 369
        }
      },
      "source": [
        "ax = sns.displot(data, x=\"Fnlwgt\", hue ='Class')\n",
        "plt.show()"
      ],
      "execution_count": 112,
      "outputs": [
        {
          "output_type": "display_data",
          "data": {
            "image/png": "[encoded data removed]",
            "text/plain": [
              "<Figure size 431.75x360 with 1 Axes>"
            ]
          },
          "metadata": {
            "tags": [],
            "needs_background": "light"
          }
        }
      ]
    },
    {
      "cell_type": "markdown",
      "metadata": {
        "id": "tZEm4B724rG-"
      },
      "source": [
        "### Income vs Age\n",
        "* There are some out liers bases on the Age with respect to both categories of Income. \n",
        "* The records with Age above 70 can be filtered inorder to remove the ourliers"
      ]
    },
    {
      "cell_type": "code",
      "metadata": {
        "id": "9AI015PWgUee",
        "outputId": "1e5f1c45-c107-4d9f-ad0b-1c1adbb78343",
        "colab": {
          "base_uri": "https://localhost:8080/",
          "height": 350
        }
      },
      "source": [
        "f, ax = plt.subplots(figsize=(10, 5))\n",
        "ax = sns.boxplot(x=\"Class\", y=\"Age\", data=data)\n",
        "ax.set_title(\"Income vs Age - Outliers\")\n",
        "plt.show()"
      ],
      "execution_count": 113,
      "outputs": [
        {
          "output_type": "display_data",
          "data": {
            "image/png": "[encoded data removed]",
            "text/plain": [
              "<Figure size 720x360 with 1 Axes>"
            ]
          },
          "metadata": {
            "tags": [],
            "needs_background": "light"
          }
        }
      ]
    },
    {
      "cell_type": "markdown",
      "metadata": {
        "id": "DKSDvWauPbt5"
      },
      "source": [
        "### Frequency distribution of workclass\n",
        "\n",
        "* We can see that the working class other than \"Private\" has very lower count  than 5000 observations for respective category.\n",
        "* We have also seen in the previous section that there are **2799 missing values** in \"Workclass\" column which is would all combine to form another category. Hence, using *imputation_method='missing'* would be resonable in this case."
      ]
    },
    {
      "cell_type": "code",
      "metadata": {
        "id": "MK4L-GK8OL71",
        "outputId": "e5c39678-cf7c-4c18-e669-4e60fd0468c6",
        "colab": {
          "base_uri": "https://localhost:8080/",
          "height": 422
        }
      },
      "source": [
        "f, ax = plt.subplots(figsize=(15, 5))\n",
        "ax = sns.countplot(x=\"Workclass\", data=data, palette=\"Set1\")\n",
        "ax.set_title(\"Frequency distribution of Workclass\")\n",
        "ax.set_xticklabels(data.Workclass.value_counts().index, rotation=90)\n",
        "plt.show()"
      ],
      "execution_count": 114,
      "outputs": [
        {
          "output_type": "display_data",
          "data": {
            "image/png": "[encoded data removed]",
            "text/plain": [
              "<Figure size 1080x360 with 1 Axes>"
            ]
          },
          "metadata": {
            "tags": [],
            "needs_background": "light"
          }
        }
      ]
    },
    {
      "cell_type": "markdown",
      "metadata": {
        "id": "kPNQ23GoQ2BO"
      },
      "source": [
        "### Frequency distribution of Occupation\n",
        "\n",
        "* We can see that the Occupation variable has many categories with healthy distributions and only 4 categories such as Tech-support, Armed-Forces and Exec-managerial have less observations. \n",
        "* We have also seen in the previous section that there are **2809 missing values** in \"Occupation\" column. Since there are multiple categories with similar counts,we can create a new missing category using *imputation_method='missing'*"
      ]
    },
    {
      "cell_type": "code",
      "metadata": {
        "id": "2bfmO7vaQ2BV",
        "outputId": "f49d9e44-87b1-49e4-9b7b-1a1e2076ecbb",
        "colab": {
          "base_uri": "https://localhost:8080/",
          "height": 686
        }
      },
      "source": [
        "f, ax = plt.subplots(figsize=(15, 5))\n",
        "ax = sns.countplot(x=\"Occupation\", data=data, palette=\"Set1\")\n",
        "ax.set_title(\"Frequency distribution of Occupation\")\n",
        "ax.set_xticklabels(data.Occupation.value_counts().index, rotation=90)\n",
        "plt.show()\n",
        "data['Occupation'].value_counts()"
      ],
      "execution_count": 127,
      "outputs": [
        {
          "output_type": "display_data",
          "data": {
            "image/png": "[encoded data removed]",
            "text/plain": [
              "<Figure size 1080x360 with 1 Axes>"
            ]
          },
          "metadata": {
            "tags": [],
            "needs_background": "light"
          }
        },
        {
          "output_type": "execute_result",
          "data": {
            "text/plain": [
              "Prof-specialty       6172\n",
              "Craft-repair         6112\n",
              "Exec-managerial      6086\n",
              "Adm-clerical         5611\n",
              "Sales                5504\n",
              "Other-service        4923\n",
              "Machine-op-inspct    3022\n",
              "Transport-moving     2355\n",
              "Handlers-cleaners    2072\n",
              "Farming-fishing      1490\n",
              "Tech-support         1446\n",
              "Protective-serv       983\n",
              "Priv-house-serv       242\n",
              "Armed-Forces           15\n",
              "Name: Occupation, dtype: int64"
            ]
          },
          "metadata": {
            "tags": []
          },
          "execution_count": 127
        }
      ]
    },
    {
      "cell_type": "markdown",
      "metadata": {
        "id": "Bf_IrtIsSUfW"
      },
      "source": [
        "### Frequency distribution of Native-country\n",
        "\n",
        "* We can see that the Native-country variable has many countries in the variable but ***89.7%*** observations have ***United States*** as the country.\n",
        "* We have also seen in the previous section that there are **857 missing values** in \"Native-country\" column. Those missing values can be assigned new missing category using *imputation_method='missing'*. \n",
        "* In the later part of pre-processing pipeline, we can groups infrequent countires altogether into one new category called *'Rare'*. "
      ]
    },
    {
      "cell_type": "code",
      "metadata": {
        "id": "0O3VeCRqSUfd",
        "outputId": "55553395-6cc8-4da5-d4ec-bf4cb5968fe7",
        "colab": {
          "base_uri": "https://localhost:8080/",
          "height": 1000
        }
      },
      "source": [
        "f, ax = plt.subplots(figsize=(50, 10))\n",
        "ax = sns.countplot(x=\"Native-country\", data=data, palette=\"Set1\")\n",
        "ax.set_title(\"Frequency distribution of Native-country\")\n",
        "plt.show()\n",
        "data['Native-country'].value_counts()"
      ],
      "execution_count": 130,
      "outputs": [
        {
          "output_type": "display_data",
          "data": {
            "image/png": "[encoded data removed]",
            "text/plain": [
              "<Figure size 3600x720 with 1 Axes>"
            ]
          },
          "metadata": {
            "tags": [],
            "needs_background": "light"
          }
        },
        {
          "output_type": "execute_result",
          "data": {
            "text/plain": [
              "United-States                 43832\n",
              "Mexico                          951\n",
              "Philippines                     295\n",
              "Germany                         206\n",
              "Puerto-Rico                     184\n",
              "Canada                          182\n",
              "El-Salvador                     155\n",
              "India                           151\n",
              "Cuba                            138\n",
              "England                         127\n",
              "China                           122\n",
              "South                           115\n",
              "Jamaica                         106\n",
              "Italy                           105\n",
              "Dominican-Republic              103\n",
              "Japan                            92\n",
              "Guatemala                        88\n",
              "Poland                           87\n",
              "Vietnam                          86\n",
              "Columbia                         85\n",
              "Haiti                            75\n",
              "Portugal                         67\n",
              "Taiwan                           65\n",
              "Iran                             59\n",
              "Nicaragua                        49\n",
              "Greece                           49\n",
              "Peru                             46\n",
              "Ecuador                          45\n",
              "France                           38\n",
              "Ireland                          37\n",
              "Hong                             30\n",
              "Thailand                         30\n",
              "Cambodia                         28\n",
              "Trinadad&Tobago                  27\n",
              "Outlying-US(Guam-USVI-etc)       23\n",
              "Yugoslavia                       23\n",
              "Laos                             23\n",
              "Scotland                         21\n",
              "Honduras                         20\n",
              "Hungary                          19\n",
              "Holand-Netherlands                1\n",
              "Name: Native-country, dtype: int64"
            ]
          },
          "metadata": {
            "tags": []
          },
          "execution_count": 130
        }
      ]
    },
    {
      "cell_type": "code",
      "metadata": {
        "id": "n684pC78WA_G",
        "outputId": "2cf60166-51b3-42cb-95db-c48cbc6fbc9e",
        "colab": {
          "base_uri": "https://localhost:8080/"
        }
      },
      "source": [
        "print('% of observations of United-States:',(data[data['Native-country'] == 'United-States'].shape[0] / data.shape[0])*100)"
      ],
      "execution_count": 133,
      "outputs": [
        {
          "output_type": "stream",
          "text": [
            "% of observations of United-States: 89.74243478973015\n"
          ],
          "name": "stdout"
        }
      ]
    },
    {
      "cell_type": "markdown",
      "metadata": {
        "id": "VkqLOS4evcfo"
      },
      "source": [
        "## Data Capping\n"
      ]
    },
    {
      "cell_type": "code",
      "metadata": {
        "id": "22QfWQdt2zn-",
        "outputId": "eaff92e7-4771-4e5e-865a-240e0e0f6a64",
        "colab": {
          "base_uri": "https://localhost:8080/"
        }
      },
      "source": [
        "data_capp = data[\n",
        "     (data[\"Age\"] <=70) &\n",
        "     (data[\"Hours-per-week\"] <=70) \n",
        "    ]\n",
        "print(\"Removed records:\",data.shape[0]-data_capp.shape[0])\n",
        "print(\"Updated Records:\",data_capp.shape)"
      ],
      "execution_count": 62,
      "outputs": [
        {
          "output_type": "stream",
          "text": [
            "Removed records: 1629\n",
            "Updated Records: (47213, 15)\n"
          ],
          "name": "stdout"
        }
      ]
    },
    {
      "cell_type": "markdown",
      "metadata": {
        "id": "XHYlYKooipcV"
      },
      "source": [
        "# Data Transformations and encoding"
      ]
    },
    {
      "cell_type": "code",
      "metadata": {
        "ExecuteTime": {
          "end_time": "2020-03-09T07:31:49.061072Z",
          "start_time": "2020-03-09T07:31:49.056562Z"
        },
        "id": "zkyqcSHGvdMZ"
      },
      "source": [
        "# from feature-engine\n",
        "from feature_engine import missing_data_imputers as mdi\n",
        "# for one hot encoding with feature-engine\n",
        "from feature_engine.categorical_encoders import OneHotCategoricalEncoder\n",
        "from feature_engine.categorical_encoders import RareLabelCategoricalEncoder\n",
        "from sklearn.linear_model import LogisticRegression\n",
        "from sklearn.pipeline import Pipeline\n",
        "from feature_engine.wrappers import SklearnTransformerWrapper\n",
        "from sklearn.preprocessing import StandardScaler"
      ],
      "execution_count": 259,
      "outputs": []
    },
    {
      "cell_type": "markdown",
      "metadata": {
        "id": "Eeo0qvmTgHQS"
      },
      "source": [
        "## Subset"
      ]
    },
    {
      "cell_type": "code",
      "metadata": {
        "ExecuteTime": {
          "end_time": "2020-03-09T07:31:43.601228Z",
          "start_time": "2020-03-09T07:31:43.589194Z"
        },
        "id": "A-BhSZXivdMS",
        "outputId": "a3eb6cc7-b23b-4731-ed7d-a992d38b4a37",
        "colab": {
          "base_uri": "https://localhost:8080/"
        }
      },
      "source": [
        "# Dropping Education variable\n",
        "data_drop = data.drop(['Education','Native-country'], axis=1)\n",
        "data_sub = data_drop.sample(frac=0.3, replace=False, random_state=42)\n",
        "# separate into training and testing set\n",
        "from sklearn.model_selection import train_test_split\n",
        "X_train, X_test, y_train, y_test = train_test_split(\n",
        "    data_sub.drop('Class', axis=1),  # predictors\n",
        "    data_sub['Class'],  # target\n",
        "    test_size=0.1,  # percentage of obs in test set\n",
        "    random_state=0)  # seed to ensure reproducibility\n",
        "\n",
        "X_train.shape, X_test.shape"
      ],
      "execution_count": 333,
      "outputs": [
        {
          "output_type": "execute_result",
          "data": {
            "text/plain": [
              "((13187, 12), (1466, 12))"
            ]
          },
          "metadata": {
            "tags": []
          },
          "execution_count": 333
        }
      ]
    },
    {
      "cell_type": "markdown",
      "metadata": {
        "id": "muISUgVlkv6_"
      },
      "source": [
        "### Transformations"
      ]
    },
    {
      "cell_type": "code",
      "metadata": {
        "id": "vjesXLcrkv7A",
        "outputId": "3040c664-a40b-4a6c-91d5-ea9272057404",
        "colab": {
          "base_uri": "https://localhost:8080/"
        }
      },
      "source": [
        "X_train.info()"
      ],
      "execution_count": 334,
      "outputs": [
        {
          "output_type": "stream",
          "text": [
            "<class 'pandas.core.frame.DataFrame'>\n",
            "Int64Index: 13187 entries, 930 to 22775\n",
            "Data columns (total 12 columns):\n",
            " #   Column          Non-Null Count  Dtype \n",
            "---  ------          --------------  ----- \n",
            " 0   Age             13187 non-null  int64 \n",
            " 1   Workclass       12425 non-null  object\n",
            " 2   Fnlwgt          13187 non-null  int64 \n",
            " 3   Education-num   13187 non-null  int64 \n",
            " 4   Marital-status  13187 non-null  object\n",
            " 5   Occupation      12423 non-null  object\n",
            " 6   Relationship    13187 non-null  object\n",
            " 7   Race            13187 non-null  object\n",
            " 8   Sex             13187 non-null  object\n",
            " 9   Capital-gain    13187 non-null  int64 \n",
            " 10  Capital-loss    13187 non-null  int64 \n",
            " 11  Hours-per-week  13187 non-null  int64 \n",
            "dtypes: int64(6), object(6)\n",
            "memory usage: 1.3+ MB\n"
          ],
          "name": "stdout"
        }
      ]
    },
    {
      "cell_type": "code",
      "metadata": {
        "ExecuteTime": {
          "end_time": "2020-03-09T07:31:49.933251Z",
          "start_time": "2020-03-09T07:31:49.926236Z"
        },
        "id": "kEtjsK3Vkv7F"
      },
      "source": [
        "income_pipe = Pipeline([\n",
        "\n",
        "    # missing data imputation \n",
        "    ('imputer_cat_missing',\n",
        "     mdi.CategoricalVariableImputer(imputation_method='missing',variables=['Workclass','Occupation'])),\n",
        "\n",
        "    # categorical encoding \n",
        "    ('encoder_rare_label',\n",
        "     RareLabelCategoricalEncoder(tol=0.01,\n",
        "                                    n_categories=4,\n",
        "                                    variables=['Race','Relationship','Occupation','Marital-status','Workclass'])),\n",
        "    ('categorical_encoder',\n",
        "     OneHotCategoricalEncoder( top_categories=None,\n",
        "                               variables=['Race','Relationship','Occupation','Marital-status','Workclass','Sex'], # we can select which variables to encode\n",
        "                               drop_last=True)),\n",
        "    ('scaler', SklearnTransformerWrapper(transformer=StandardScaler(), variables = ['Fnlwgt','Age','Capital-gain','Capital-loss','Hours-per-week'])),\n",
        "\n",
        "])"
      ],
      "execution_count": 335,
      "outputs": []
    },
    {
      "cell_type": "code",
      "metadata": {
        "ExecuteTime": {
          "end_time": "2020-03-09T07:31:52.228656Z",
          "start_time": "2020-03-09T07:31:52.177198Z"
        },
        "id": "4JOQArpQkv7I",
        "outputId": "57eeefe8-2329-45af-fe8f-7859c776ddf4",
        "colab": {
          "base_uri": "https://localhost:8080/"
        }
      },
      "source": [
        "income_pipe.fit(X_train, y_train)"
      ],
      "execution_count": 336,
      "outputs": [
        {
          "output_type": "execute_result",
          "data": {
            "text/plain": [
              "Pipeline(memory=None,\n",
              "         steps=[('imputer_cat_missing',\n",
              "                 CategoricalVariableImputer(fill_value='Missing',\n",
              "                                            imputation_method='missing',\n",
              "                                            return_object=False,\n",
              "                                            variables=['Workclass',\n",
              "                                                       'Occupation'])),\n",
              "                ('encoder_rare_label',\n",
              "                 RareLabelCategoricalEncoder(max_n_categories=None,\n",
              "                                             n_categories=4,\n",
              "                                             replace_with='Rare', tol=0.01,\n",
              "                                             variables=['Race', 'Relationship',\n",
              "                                                        'Occupation',\n",
              "                                                        'M...\n",
              "                ('categorical_encoder',\n",
              "                 OneHotCategoricalEncoder(drop_last=True, top_categories=None,\n",
              "                                          variables=['Race', 'Relationship',\n",
              "                                                     'Occupation',\n",
              "                                                     'Marital-status',\n",
              "                                                     'Workclass', 'Sex'])),\n",
              "                ('scaler',\n",
              "                 SklearnTransformerWrapper(transformer=StandardScaler(copy=True,\n",
              "                                                                      with_mean=True,\n",
              "                                                                      with_std=True),\n",
              "                                           variables=['Fnlwgt', 'Age',\n",
              "                                                      'Capital-gain',\n",
              "                                                      'Capital-loss',\n",
              "                                                      'Hours-per-week']))],\n",
              "         verbose=False)"
            ]
          },
          "metadata": {
            "tags": []
          },
          "execution_count": 336
        }
      ]
    },
    {
      "cell_type": "code",
      "metadata": {
        "ExecuteTime": {
          "end_time": "2020-03-09T07:31:54.293463Z",
          "start_time": "2020-03-09T07:31:54.238241Z"
        },
        "id": "nKehw1Vxkv7L"
      },
      "source": [
        "# Apply Transformations\n",
        "X_train=income_pipe.transform(X_train)\n",
        "X_test=income_pipe.transform(X_test)"
      ],
      "execution_count": 337,
      "outputs": []
    },
    {
      "cell_type": "code",
      "metadata": {
        "id": "PuBWk2GO89Tj",
        "outputId": "dd439216-c144-4089-ad32-2bce95cdba1f",
        "colab": {
          "base_uri": "https://localhost:8080/"
        }
      },
      "source": [
        "X_train.shape"
      ],
      "execution_count": 338,
      "outputs": [
        {
          "output_type": "execute_result",
          "data": {
            "text/plain": [
              "(13187, 41)"
            ]
          },
          "metadata": {
            "tags": []
          },
          "execution_count": 338
        }
      ]
    },
    {
      "cell_type": "markdown",
      "metadata": {
        "id": "GQSiflRWgMom"
      },
      "source": [
        "## Whole dataset"
      ]
    },
    {
      "cell_type": "code",
      "metadata": {
        "ExecuteTime": {
          "end_time": "2020-03-09T07:31:43.601228Z",
          "start_time": "2020-03-09T07:31:43.589194Z"
        },
        "id": "nUP9HwfNgRgr",
        "outputId": "9813f40b-a080-4643-f3c6-8cf304a710c7",
        "colab": {
          "base_uri": "https://localhost:8080/"
        }
      },
      "source": [
        "# Dropping Education variable\n",
        "data.drop(['Education'], axis=1, inplace=True)\n",
        "# separate into training and testing set\n",
        "from sklearn.model_selection import train_test_split\n",
        "X_train, X_test, y_train, y_test = train_test_split(\n",
        "    data.drop('Class', axis=1),  # predictors\n",
        "    data['Class'],  # target\n",
        "    test_size=0.1,  # percentage of obs in test set\n",
        "    random_state=0)  # seed to ensure reproducibility\n",
        "\n",
        "X_train.shape, X_test.shape"
      ],
      "execution_count": null,
      "outputs": [
        {
          "output_type": "execute_result",
          "data": {
            "text/plain": [
              "((43957, 14), (4885, 14))"
            ]
          },
          "metadata": {
            "tags": []
          },
          "execution_count": 78
        }
      ]
    },
    {
      "cell_type": "markdown",
      "metadata": {
        "id": "-WDHYLi4gi9-"
      },
      "source": [
        "### Transformations"
      ]
    },
    {
      "cell_type": "code",
      "metadata": {
        "id": "Wkp8gP0d0-2a",
        "outputId": "d16da032-8a88-43e6-ad2b-b1da5fc92b49",
        "colab": {
          "base_uri": "https://localhost:8080/"
        }
      },
      "source": [
        "X_train.info()"
      ],
      "execution_count": 185,
      "outputs": [
        {
          "output_type": "stream",
          "text": [
            "<class 'pandas.core.frame.DataFrame'>\n",
            "Int64Index: 527 entries, 33704 to 37474\n",
            "Data columns (total 14 columns):\n",
            " #   Column          Non-Null Count  Dtype \n",
            "---  ------          --------------  ----- \n",
            " 0   Age             527 non-null    int64 \n",
            " 1   Workclass       497 non-null    object\n",
            " 2   Fnlwgt          527 non-null    int64 \n",
            " 3   Education       527 non-null    object\n",
            " 4   Education-num   527 non-null    int64 \n",
            " 5   Marital-status  527 non-null    object\n",
            " 6   Occupation      497 non-null    object\n",
            " 7   Relationship    527 non-null    object\n",
            " 8   Race            527 non-null    object\n",
            " 9   Sex             527 non-null    object\n",
            " 10  Capital-gain    527 non-null    int64 \n",
            " 11  Capital-loss    527 non-null    int64 \n",
            " 12  Hours-per-week  527 non-null    int64 \n",
            " 13  Native-country  517 non-null    object\n",
            "dtypes: int64(6), object(8)\n",
            "memory usage: 61.8+ KB\n"
          ],
          "name": "stdout"
        }
      ]
    },
    {
      "cell_type": "code",
      "metadata": {
        "ExecuteTime": {
          "end_time": "2020-03-09T07:31:49.933251Z",
          "start_time": "2020-03-09T07:31:49.926236Z"
        },
        "id": "LfraUGkZvdMc"
      },
      "source": [
        "income_pipe = Pipeline([\n",
        "\n",
        "    # missing data imputation \n",
        "    ('imputer_cat_missing',\n",
        "     mdi.CategoricalVariableImputer(imputation_method='missing',variables=['Workclass','Occupation','Native-country'])),\n",
        "\n",
        "    # categorical encoding \n",
        "    ('encoder_rare_label',\n",
        "     RareLabelCategoricalEncoder(tol=0.01,\n",
        "                                    n_categories=4,\n",
        "                                    variables=['Native-country','Race','Relationship','Occupation','Marital-status','Education','Workclass'])),\n",
        "    ('categorical_encoder',\n",
        "     OneHotCategoricalEncoder( top_categories=None,\n",
        "                               variables=['Native-country','Race','Relationship','Occupation','Marital-status','Education','Workclass','Sex'], # we can select which variables to encode\n",
        "                               drop_last=True)),\n",
        "    ('scaler', SklearnTransformerWrapper(transformer=StandardScaler(), variables = ['Fnlwgt','Age','Capital-gain','Capital-loss','Hours-per-week'])),\n",
        "\n",
        "])"
      ],
      "execution_count": 186,
      "outputs": []
    },
    {
      "cell_type": "code",
      "metadata": {
        "ExecuteTime": {
          "end_time": "2020-03-09T07:31:52.228656Z",
          "start_time": "2020-03-09T07:31:52.177198Z"
        },
        "id": "H6GxXGEzvdMe",
        "outputId": "2344e436-d9b1-46f3-9a75-09aa452e01b9",
        "colab": {
          "base_uri": "https://localhost:8080/"
        }
      },
      "source": [
        "income_pipe.fit(X_train, y_train)"
      ],
      "execution_count": 187,
      "outputs": [
        {
          "output_type": "execute_result",
          "data": {
            "text/plain": [
              "Pipeline(memory=None,\n",
              "         steps=[('imputer_cat_missing',\n",
              "                 CategoricalVariableImputer(fill_value='Missing',\n",
              "                                            imputation_method='missing',\n",
              "                                            return_object=False,\n",
              "                                            variables=['Workclass',\n",
              "                                                       'Occupation',\n",
              "                                                       'Native-country'])),\n",
              "                ('encoder_rare_label',\n",
              "                 RareLabelCategoricalEncoder(max_n_categories=None,\n",
              "                                             n_categories=4,\n",
              "                                             replace_with='Rare', tol=0.01,\n",
              "                                             variables=['Native-country',\n",
              "                                                        'Ra...\n",
              "                 OneHotCategoricalEncoder(drop_last=True, top_categories=None,\n",
              "                                          variables=['Native-country', 'Race',\n",
              "                                                     'Relationship',\n",
              "                                                     'Occupation',\n",
              "                                                     'Marital-status',\n",
              "                                                     'Education', 'Workclass',\n",
              "                                                     'Sex'])),\n",
              "                ('scaler',\n",
              "                 SklearnTransformerWrapper(transformer=StandardScaler(copy=True,\n",
              "                                                                      with_mean=True,\n",
              "                                                                      with_std=True),\n",
              "                                           variables=['Fnlwgt', 'Age',\n",
              "                                                      'Capital-gain',\n",
              "                                                      'Capital-loss',\n",
              "                                                      'Hours-per-week']))],\n",
              "         verbose=False)"
            ]
          },
          "metadata": {
            "tags": []
          },
          "execution_count": 187
        }
      ]
    },
    {
      "cell_type": "code",
      "metadata": {
        "ExecuteTime": {
          "end_time": "2020-03-09T07:31:54.293463Z",
          "start_time": "2020-03-09T07:31:54.238241Z"
        },
        "id": "SW14fdFavdMg"
      },
      "source": [
        "# Apply Transformations\n",
        "X_train=income_pipe.transform(X_train)\n",
        "X_test=income_pipe.transform(X_test)"
      ],
      "execution_count": 188,
      "outputs": []
    },
    {
      "cell_type": "markdown",
      "metadata": {
        "id": "fikcjprQZbpg"
      },
      "source": [
        "# Simple Classifiers"
      ]
    },
    {
      "cell_type": "markdown",
      "metadata": {
        "id": "8dNHJ_JvvdMk"
      },
      "source": [
        "## LogisticRegression"
      ]
    },
    {
      "cell_type": "code",
      "metadata": {
        "id": "Y6De_puzvdMm",
        "outputId": "2e491627-d586-4a94-8c34-b5550a843c56",
        "colab": {
          "base_uri": "https://localhost:8080/"
        }
      },
      "source": [
        "# Train a logistic regression model\n",
        "\n",
        "\n",
        "from sklearn.linear_model import LogisticRegression\n",
        "from sklearn.model_selection import GridSearchCV\n",
        "from sklearn.preprocessing import MinMaxScaler\n",
        "\n",
        "scaler = MinMaxScaler()\n",
        "\n",
        "X_train = scaler.fit_transform(X_train)\n",
        "X_test = scaler.transform(X_test)\n",
        "\n",
        "clf = LogisticRegression(max_iter=10000)\n",
        "\n",
        "#define a list of parameters\n",
        "param_grid = [{'penalty': ['l1','l2'],\n",
        "              'C':[0.1, 0.001, 1, 10],\n",
        "              'solver' : ['liblinear', 'saga']},\n",
        "\n",
        "              {'penalty': ['elasticnet'],\n",
        "              'C':[0.1, 0.001, 1, 10],\n",
        "              'l1_ratio': [0.1,0.5, 0.9],\n",
        "              'solver' : ['saga']}]\n",
        "\n",
        "grid_log = GridSearchCV(clf, param_grid, cv=6, verbose=0)\n",
        "\n",
        "grid_log.fit(X_train, y_train)\n",
        "\n",
        "\n",
        "print(\"Best Mean Cross-validation score: {:.2f}\".format(grid_log.best_score_))\n",
        "print()\n",
        "\n",
        "#find best parameters\n",
        "print('Logistic Regression parameters: ', grid_log.best_params_)\n",
        "\n",
        "# Check test data set performance\n",
        "print(\"Logistic Train Performance: \", grid_log.score(X_train,y_train))\n",
        "print(\"Logistic Test Performance: \", grid_log.score(X_test,y_test))\n",
        "\n"
      ],
      "execution_count": 307,
      "outputs": [
        {
          "output_type": "stream",
          "text": [
            "Best Mean Cross-validation score: 0.85\n",
            "\n",
            "Logistic Regression parameters:  {'C': 1, 'penalty': 'l1', 'solver': 'liblinear'}\n",
            "Logistic Train Performance:  0.8543799772468714\n",
            "Logistic Test Performance:  0.8548057259713702\n"
          ],
          "name": "stdout"
        }
      ]
    },
    {
      "cell_type": "markdown",
      "metadata": {
        "id": "66poKd00vdMo"
      },
      "source": [
        "## KNN"
      ]
    },
    {
      "cell_type": "code",
      "metadata": {
        "id": "WgN5KM8zvdMp",
        "outputId": "0d4ffd38-c7d6-48e2-cc95-d86bc10e36e5",
        "colab": {
          "base_uri": "https://localhost:8080/"
        }
      },
      "source": [
        "# Train a KNN model, report the coefficients, the best parameters, and model performance \n",
        "# hint: find the optimal k\n",
        "\n",
        "# YOUR CODE HERE\n",
        "\n",
        "from sklearn.model_selection import GridSearchCV\n",
        "from sklearn.neighbors import KNeighborsClassifier\n",
        "\n",
        "knn = KNeighborsClassifier()\n",
        "\n",
        "# define a list of parameters\n",
        "param_knn = {'n_neighbors': range(2,10)}\n",
        "\n",
        "#apply grid search\n",
        "grid_knn = GridSearchCV(knn, param_knn, cv=9, return_train_score=True)\n",
        "grid_knn.fit(X_train, y_train)\n",
        "\n",
        "# Mean Cross Validation Score\n",
        "print(\"Best Mean Cross-validation score: {:.2f}\".format(grid_knn.best_score_))\n",
        "print()\n",
        "\n",
        "#find best parameters\n",
        "print('KNN parameters: ', grid_knn.best_params_)\n",
        "\n",
        "# Check test data set performance\n",
        "print(\"KNN Train Performance: \", grid_knn.score(X_train,y_train))\n",
        "print(\"KNN Test Performance: \", grid_knn.score(X_test,y_test))"
      ],
      "execution_count": 247,
      "outputs": [
        {
          "output_type": "stream",
          "text": [
            "Best Mean Cross-validation score: 0.84\n",
            "\n",
            "KNN parameters:  {'n_neighbors': 9}\n",
            "KNN Train Performance:  0.8669093390968036\n",
            "KNN Test Performance:  0.8382804503582395\n"
          ],
          "name": "stdout"
        }
      ]
    },
    {
      "cell_type": "markdown",
      "metadata": {
        "id": "6m0brZNPvdMr"
      },
      "source": [
        "## Decision tree with Max_leaf_nodes"
      ]
    },
    {
      "cell_type": "code",
      "metadata": {
        "id": "YAiSARVevdMs",
        "outputId": "50717c93-50b5-49fe-8490-84c61f57f5a0",
        "colab": {
          "base_uri": "https://localhost:8080/"
        }
      },
      "source": [
        "# Train a Decision Tree model, report the coefficients, the best parameters, and model performance (10 points)\n",
        "# hint: find the optimal max_depth\n",
        "\n",
        "# YOUR CODE HERE\n",
        "from sklearn.tree import DecisionTreeClassifier\n",
        "dtree = DecisionTreeClassifier(random_state=0)\n",
        "\n",
        "#define a list of parameters\n",
        "param_dtree = {'max_leaf_nodes': range(3,36),\n",
        "               'criterion': ['gini', 'entropy'],\n",
        "               'splitter': ['best','random']}\n",
        "\n",
        "#apply grid search\n",
        "grid_dtree = GridSearchCV(dtree, param_dtree, cv=6, return_train_score = True)\n",
        "grid_dtree.fit(X_train, y_train)\n",
        "\n",
        "# Mean Cross Validation Score\n",
        "print(\"Best Mean Cross-validation score: {:.2f}\".format(grid_dtree.best_score_))\n",
        "print()\n",
        "\n",
        "#find best parameters\n",
        "print('Decision Tree parameters: ', grid_dtree.best_params_)\n",
        "\n",
        "# Check test data set performance\n",
        "print(\"Decision Tree Performance Train: \", grid_dtree.score(X_train,y_train))\n",
        "print(\"Decision Tree Performance Test: \", grid_dtree.score(X_test,y_test))\n"
      ],
      "execution_count": 248,
      "outputs": [
        {
          "output_type": "stream",
          "text": [
            "Best Mean Cross-validation score: 0.86\n",
            "\n",
            "Decision Tree parameters:  {'criterion': 'gini', 'max_leaf_nodes': 21, 'splitter': 'best'}\n",
            "Decision Tree Performance Train:  0.863041747241497\n",
            "Decision Tree Performance Test:  0.8464687819856704\n"
          ],
          "name": "stdout"
        }
      ]
    },
    {
      "cell_type": "markdown",
      "metadata": {
        "id": "Jr20wR4LvdMw"
      },
      "source": [
        "## SVM Classification Linear"
      ]
    },
    {
      "cell_type": "code",
      "metadata": {
        "id": "xph2lbf4vdMu",
        "outputId": "1309fb3b-c5ca-49d0-d3dd-8d6805cb17f9",
        "colab": {
          "base_uri": "https://localhost:8080/"
        }
      },
      "source": [
        "from sklearn.svm import LinearSVC\n",
        "from sklearn.model_selection import GridSearchCV\n",
        "\n",
        "svc_linear = LinearSVC(dual = False, max_iter=10000)\n",
        "\n",
        "#define a list of parameters\n",
        "param_svc_linear = {'penalty': ['l1','l2'],\n",
        "                    'C': [0.08,0.09,0.1, 0.2,0.3,0.4,0.5],\n",
        "                   }\n",
        "\n",
        "#apply grid search\n",
        "grid_param_svc_linear = GridSearchCV(svc_linear, param_svc_linear, cv=4, return_train_score = True)\n",
        "grid_param_svc_linear.fit(X_train, y_train)\n",
        "\n",
        "# Mean Cross Validation Score\n",
        "print(\"Best Mean Cross-validation score: {:.2f}\".format(grid_param_svc_linear.best_score_))\n",
        "print()\n",
        "\n",
        "#find best parameters\n",
        "print('SVC parameters: ', grid_param_svc_linear.best_params_)\n",
        "\n",
        "\n",
        "\n",
        "# Check test data set performance\n",
        "print(\"SVC Performance train: \", grid_param_svc_linear.score(X_train,y_train))\n",
        "print(\"SVC Performance test: \", grid_param_svc_linear.score(X_test,y_test))"
      ],
      "execution_count": 300,
      "outputs": [
        {
          "output_type": "stream",
          "text": [
            "Best Mean Cross-validation score: 0.85\n",
            "\n",
            "SVC parameters:  {'C': 0.09, 'penalty': 'l2'}\n",
            "SVC Performance train:  0.8548350398179749\n",
            "SVC Performance test:  0.852760736196319\n"
          ],
          "name": "stdout"
        }
      ]
    },
    {
      "cell_type": "markdown",
      "metadata": {
        "id": "UlsDRdMow5CR"
      },
      "source": [
        "## SVM Classification Kernel:rbf"
      ]
    },
    {
      "cell_type": "code",
      "metadata": {
        "id": "RfGRcqNovdMx",
        "outputId": "842cce88-c1bf-4fa3-ad6c-2eb587b1ccab",
        "colab": {
          "base_uri": "https://localhost:8080/"
        }
      },
      "source": [
        "from sklearn.svm import SVC\n",
        "from sklearn.model_selection import GridSearchCV\n",
        "\n",
        "svc_kernel = SVC(kernel = 'rbf')\n",
        "\n",
        "#define a list of parameters\n",
        "param_svc_kernel = {'C': [15000,25000,30000],'gamma':[0.0008,0.001,0.003,0.005]}\n",
        "\n",
        "#apply grid search\n",
        "grid_svc_kernel = GridSearchCV(svc_kernel, param_svc_kernel, cv=5, n_jobs=2)\n",
        "grid_svc_kernel.fit(X_train, y_train)\n",
        "\n",
        "# Mean Cross Validation Score\n",
        "print(\"Best Mean Cross-validation score: {:.2f}\".format(grid_svc_kernel.best_score_))\n",
        "\n",
        "\n",
        "#find best parameters\n",
        "print('SVC parameters: ', grid_svc_kernel.best_params_)\n",
        "\n",
        "print('train score: ', grid_svc_kernel.score(X_train, y_train))\n",
        "print('test score: ', grid_svc_kernel.score(X_train, y_train))"
      ],
      "execution_count": 301,
      "outputs": [
        {
          "output_type": "stream",
          "text": [
            "Best Mean Cross-validation score: 0.86\n",
            "SVC parameters:  {'C': 15000, 'gamma': 0.0008}\n",
            "train score:  0.8741751990898748\n",
            "test score:  0.8741751990898748\n"
          ],
          "name": "stdout"
        }
      ]
    },
    {
      "cell_type": "markdown",
      "metadata": {
        "id": "EkltKkeyvdMz"
      },
      "source": [
        "## SVM Classification Kernel: Sigmoid"
      ]
    },
    {
      "cell_type": "code",
      "metadata": {
        "id": "VRLQUZjhvdM0",
        "outputId": "5fd805f3-a10f-4256-9d9b-078ac175fe90",
        "colab": {
          "base_uri": "https://localhost:8080/"
        }
      },
      "source": [
        "from sklearn.svm import SVC\n",
        "from sklearn.model_selection import GridSearchCV\n",
        "\n",
        "svc_kernel = SVC(kernel = 'sigmoid')\n",
        "\n",
        "#define a list of parameters\n",
        "param_svc_kernel = {'C': [1.2,1.4,1.6,1.8],'gamma':[0.08,0.1,0.3,0.5]}\n",
        "\n",
        "#apply grid search\n",
        "grid_svc_kernel = GridSearchCV(svc_kernel, param_svc_kernel, cv=5, n_jobs=2)\n",
        "grid_svc_kernel.fit(X_train, y_train)\n",
        "\n",
        "# Mean Cross Validation Score\n",
        "print(\"Best Mean Cross-validation score: {:.2f}\".format(grid_svc_kernel.best_score_))\n",
        "\n",
        "\n",
        "#find best parameters\n",
        "print('SVC parameters: ', grid_svc_kernel.best_params_)\n",
        "\n",
        "print('train score: ', grid_svc_kernel.score(X_train, y_train))\n",
        "print('test score: ', grid_svc_kernel.score(X_train, y_train))"
      ],
      "execution_count": 302,
      "outputs": [
        {
          "output_type": "stream",
          "text": [
            "Best Mean Cross-validation score: 0.75\n",
            "SVC parameters:  {'C': 1.2, 'gamma': 0.5}\n",
            "train score:  0.7453924914675768\n",
            "test score:  0.7453924914675768\n"
          ],
          "name": "stdout"
        }
      ]
    },
    {
      "cell_type": "markdown",
      "metadata": {
        "id": "2rREdztwvdM2"
      },
      "source": [
        "## SVM Classification with Poly kernel"
      ]
    },
    {
      "cell_type": "code",
      "metadata": {
        "id": "HpspUhP1vdM3",
        "outputId": "7c22fe0e-0ba4-44fa-d6b6-410ceb760f3e",
        "colab": {
          "base_uri": "https://localhost:8080/"
        }
      },
      "source": [
        "from sklearn.svm import SVC\n",
        "from sklearn.model_selection import GridSearchCV\n",
        "\n",
        "svc = SVC()\n",
        "\n",
        "#define a list of parameters\n",
        "param_svc = {'kernel': ['poly'],  \n",
        "             'C': [4,6,8,9,10], \n",
        "             'degree': [2, 3,5]}\n",
        "             \n",
        "\n",
        "#apply grid search\n",
        "grid_param_svc = GridSearchCV(svc, param_svc, cv=6, return_train_score = True, scoring='accuracy')\n",
        "grid_param_svc.fit(X_train, y_train)\n",
        "\n",
        "# Mean Cross Validation Score\n",
        "print(\"Best Mean Cross-validation score: {:.2f}\".format(grid_param_svc.best_score_))\n",
        "print()\n",
        "\n",
        "#find best parameters\n",
        "print('SVC parameters: ', grid_param_svc.best_params_)\n",
        "\n",
        "\n",
        "\n",
        "# Check test data set performance\n",
        "print(\"SVC Performance train: \", grid_param_svc.score(X_train,y_train))\n",
        "print(\"SVC Performance test: \", grid_param_svc.score(X_test,y_test))"
      ],
      "execution_count": 305,
      "outputs": [
        {
          "output_type": "stream",
          "text": [
            "Best Mean Cross-validation score: 0.85\n",
            "\n",
            "SVC parameters:  {'C': 8, 'degree': 3, 'kernel': 'poly'}\n",
            "SVC Performance train:  0.859613196814562\n",
            "SVC Performance test:  0.8609406952965235\n"
          ],
          "name": "stdout"
        }
      ]
    },
    {
      "cell_type": "markdown",
      "metadata": {
        "id": "3k0GJae7id-h"
      },
      "source": [
        "## Bagging SVC"
      ]
    },
    {
      "cell_type": "code",
      "metadata": {
        "id": "vpGD91wIdfob"
      },
      "source": [
        "from sklearn.ensemble import BaggingClassifier"
      ],
      "execution_count": 283,
      "outputs": []
    },
    {
      "cell_type": "code",
      "metadata": {
        "id": "SLXoD7iegXXx",
        "outputId": "b13afdaa-776b-488c-db84-0e733e311463",
        "colab": {
          "base_uri": "https://localhost:8080/"
        }
      },
      "source": [
        "#code snippet reference from classwork\n",
        "bag_logreg1 = BaggingClassifier(base_estimator=LinearSVC(dual = False, max_iter=10000), bootstrap=True, random_state=0, oob_score=True, n_jobs=-1)\n",
        "\n",
        "bag_logreg1_param = {\n",
        "                 'base_estimator__max_iter': [10000],\n",
        "                 'base_estimator__C': [0.08,0.09,0.1, 0.2,0.3,0.4,0.5],\n",
        "                 'base_estimator__penalty': ['l1','l2'],\n",
        "                 'max_samples':  [0.8,1],\n",
        "                 'n_estimators': [50,100]}\n",
        "bag_logreg1_grid = GridSearchCV(bag_logreg1, bag_logreg1_param,cv=5, return_train_score=True, )\n",
        "bag_logreg1_grid.fit(X_train,y_train)\n",
        "print(f'Best Mean Cross Validation Score is {bag_logreg1_grid.best_score_}')\n",
        "print(f'Best Mean Cross Validation Score is {bag_logreg1_grid.best_params_}')\n",
        "print(f'Train score is {bag_logreg1_grid.score(X_train,y_train)}')\n",
        "print(f'Test score is {bag_logreg1_grid.score(X_test,y_test)}')\n",
        "#print(f'Val score is {bag_logreg1_grid.score(X_val,y_val)}')"
      ],
      "execution_count": 309,
      "outputs": [
        {
          "output_type": "stream",
          "text": [
            "Best Mean Cross Validation Score is 0.8530147895335609\n",
            "Best Mean Cross Validation Score is {'base_estimator__C': 0.3, 'base_estimator__max_iter': 10000, 'base_estimator__penalty': 'l1', 'max_samples': 0.8, 'n_estimators': 50}\n",
            "Train score is 0.8548350398179749\n",
            "Test score is 0.8568507157464212\n"
          ],
          "name": "stdout"
        }
      ]
    },
    {
      "cell_type": "markdown",
      "metadata": {
        "id": "J4dvTBg1iit6"
      },
      "source": [
        "### Decision Tree"
      ]
    },
    {
      "cell_type": "code",
      "metadata": {
        "id": "ZmNrogosWC-D",
        "outputId": "c594c212-69ba-4bbd-97ce-84cacb6c7094",
        "colab": {
          "base_uri": "https://localhost:8080/"
        }
      },
      "source": [
        "#code snippet reference from classwork\n",
        "bag_dtree1 = BaggingClassifier(base_estimator=DecisionTreeClassifier(), bootstrap=True, random_state=0, oob_score=True)\n",
        "\n",
        "bag_dtree1_param = {\n",
        "                 'base_estimator__max_depth': range(1,10),\n",
        "                 'max_samples':  [0.8,1],\n",
        "                 'n_estimators': [50,100,200]}\n",
        "bag_dtree1_grid = GridSearchCV(bag_dtree1, bag_dtree1_param,cv=5, return_train_score=True, )\n",
        "bag_dtree1_grid.fit(X_train,y_train)\n",
        "print(f'Best Mean Cross Validation Score is {bag_dtree1_grid.best_score_}')\n",
        "print(f'Best Mean Cross Validation Score is {bag_dtree1_grid.best_params_}')\n",
        "print(f'Train score is {bag_dtree1_grid.score(X_train,y_train)}')\n",
        "print(f'Test score is {bag_dtree1_grid.score(X_test,y_test)}')\n",
        "# print(f'Val score is {bag_dtree1_grid.score(X_val,y_val)}')"
      ],
      "execution_count": 310,
      "outputs": [
        {
          "output_type": "stream",
          "text": [
            "Best Mean Cross Validation Score is 0.8566552901023889\n",
            "Best Mean Cross Validation Score is {'base_estimator__max_depth': 9, 'max_samples': 0.8, 'n_estimators': 50}\n",
            "Train score is 0.8992036405005688\n",
            "Test score is 0.8588957055214724\n"
          ],
          "name": "stdout"
        }
      ]
    },
    {
      "cell_type": "markdown",
      "metadata": {
        "id": "954Ke7YoxCPF"
      },
      "source": [
        "## Random Forest"
      ]
    },
    {
      "cell_type": "code",
      "metadata": {
        "id": "HnTRKl66xCjH"
      },
      "source": [
        "#code snippet reference from classwork\n",
        "from sklearn.ensemble import RandomForestClassifier\n",
        "rfc =RandomForestClassifier(random_state=42)\n",
        "rfc_param = { \n",
        "    'n_estimators': [200, 500],\n",
        "    'max_features': ['auto', 'sqrt', 'log2'],\n",
        "    'max_depth' : [2,4,5,6,7,8],\n",
        "    'criterion' :['gini', 'entropy']\n",
        "}\n",
        "\n",
        "rfc_grid = GridSearchCV(rfc, rfc_param,cv=5, return_train_score=True,scoring='f1' )\n",
        "rfc_grid.fit(X_train,y_train)\n",
        "print(f'Best Mean Cross Validation Score is {rfc_grid.best_score_}')\n",
        "print(f'Best Mean Cross Validation Score is {rfc_grid.best_params_}')\n",
        "print(f'Train score is {rfc_grid.score(X_train,y_train)}')\n",
        "print(f'Test score is {rfc_grid.score(X_test,y_test)}')\n",
        "#print(f'Val score is {rfc_grid.score(X_val,y_val)}')"
      ],
      "execution_count": null,
      "outputs": []
    },
    {
      "cell_type": "markdown",
      "metadata": {
        "id": "JsoGCh60I8dd"
      },
      "source": [
        "## Ada Boost (with decision tree)"
      ]
    },
    {
      "cell_type": "code",
      "metadata": {
        "id": "tqiIaH2EJJdr"
      },
      "source": [
        "from sklearn.ensemble import AdaBoostClassifier\n",
        "from sklearn.datasets import make_classification\n",
        "\n",
        "#code snippet reference from classwork\n",
        "adc_dtree =AdaBoostClassifier(base_estimator=DecisionTreeClassifier(),random_state=42,algorithm =\"SAMME.R\")\n",
        "adc_dtree_param = {\n",
        "              'base_estimator__criterion' : [\"gini\", \"entropy\"],\n",
        "              'base_estimator__splitter' :   [\"best\", \"random\"],\n",
        "              'base_estimator__max_depth' : [1,2,4],\n",
        "              'n_estimators' : [150,200,500,1000],\n",
        "              'learning_rate' : [0.5,1.0,2],\n",
        "             }\n",
        "adc_dtree_grid = GridSearchCV(adc_dtree, adc_dtree_param,cv=5, return_train_score=True,scoring='f1' )\n",
        "adc_dtree_grid.fit(X_train,y_train)\n",
        "print(f'Best Mean Cross Validation Score is {adc_dtree_grid.best_score_}')\n",
        "print(f'Best Mean Cross Validation Score is {adc_dtree_grid.best_params_}')\n",
        "print(f'Train score is {adc_dtree_grid.score(X_train,y_train)}')\n",
        "print(f'Test score is {adc_dtree_grid.score(X_test,y_test)}')\n",
        "#print(f'Val score is {adc_dtree_grid.score(X_val,y_val)}')"
      ],
      "execution_count": null,
      "outputs": []
    },
    {
      "cell_type": "markdown",
      "metadata": {
        "id": "S08Fqei8RH8m"
      },
      "source": [
        "## Gradient Boost"
      ]
    },
    {
      "cell_type": "code",
      "metadata": {
        "id": "ug6xNqV2SoZU",
        "outputId": "4952b255-f802-41e6-d2fd-34d4d7c37fde",
        "colab": {
          "base_uri": "https://localhost:8080/"
        }
      },
      "source": [
        "#code snippet reference from classwork\n",
        "\n",
        "from  sklearn.ensemble import GradientBoostingClassifier\n",
        "gbc= GradientBoostingClassifier(random_state=42)\n",
        "gbc_param = {\n",
        "              'max_depth' : range(2,15),\n",
        "              'n_estimators' : [20,50,100,150],\n",
        "              'learning_rate' : [0.01,0.1],\n",
        "             }\n",
        "gbc_grid = GridSearchCV(gbc, gbc_param,cv=5, return_train_score=True, scoring='f1')\n",
        "gbc_grid.fit(X_train,y_train)\n",
        "print(f'Best Mean Cross Validation Score is {gbc_grid.best_score_}')\n",
        "print(f'Best Mean Cross Validation Score is {gbc_grid.best_params_}')\n",
        "print(f'Train score is {gbc_grid.score(X_train,y_train)}')\n",
        "print(f'Test score is {gbc_grid.score(X_test,y_test)}')\n",
        "#print(f'Val score is {gbc_grid.score(X_val,y_val)}')"
      ],
      "execution_count": 339,
      "outputs": [
        {
          "output_type": "stream",
          "text": [
            "Best Mean Cross Validation Score is 0.7089491589993475\n",
            "Best Mean Cross Validation Score is {'learning_rate': 0.1, 'max_depth': 5, 'n_estimators': 150}\n",
            "Train score is 0.7859391395592865\n",
            "Test score is 0.715927750410509\n"
          ],
          "name": "stdout"
        }
      ]
    },
    {
      "cell_type": "markdown",
      "metadata": {
        "id": "61LLkw5_1nsL"
      },
      "source": [
        "## Extra-Trees"
      ]
    },
    {
      "cell_type": "code",
      "metadata": {
        "id": "fNfQ4m4Zwtzr",
        "outputId": "d2c8a30f-f222-4840-a6d9-2e67122507cc",
        "colab": {
          "base_uri": "https://localhost:8080/"
        }
      },
      "source": [
        "#code snippet reference from classwork\n",
        "\n",
        "from  sklearn.ensemble import ExtraTreesClassifier\n",
        "etc= ExtraTreesClassifier(random_state=42)\n",
        "etc_param = { \n",
        "    'n_estimators': [200, 500],\n",
        "    'max_features': ['auto', 'sqrt', 'log2'],\n",
        "    'max_depth' : [1,2,4,5],\n",
        "    'criterion' :['gini', 'entropy']\n",
        "}\n",
        "etc_grid = GridSearchCV(etc, etc_param,cv=5, return_train_score=True,scoring='f1' )\n",
        "etc_grid.fit(X_train,y_train)\n",
        "print(f'Best Mean Cross Validation Score is {etc_grid.best_score_}')\n",
        "print(f'Best Mean Cross Validation Score is {etc_grid.best_params_}')\n",
        "print(f'Train score is {etc_grid.score(X_train,y_train)}')\n",
        "print(f'Test score is {etc_grid.score(X_test,y_test)}')\n",
        "#print(f'Val score is {etc_grid.score(X_val,y_val)}')"
      ],
      "execution_count": 340,
      "outputs": [
        {
          "output_type": "stream",
          "text": [
            "Best Mean Cross Validation Score is 0.5022027185365956\n",
            "Best Mean Cross Validation Score is {'criterion': 'gini', 'max_depth': 5, 'max_features': 'auto', 'n_estimators': 200}\n",
            "Train score is 0.5095105791835862\n",
            "Test score is 0.5090180360721442\n"
          ],
          "name": "stdout"
        }
      ]
    },
    {
      "cell_type": "markdown",
      "metadata": {
        "id": "RPPZYzNo2rww"
      },
      "source": [
        "## XGBoost"
      ]
    },
    {
      "cell_type": "code",
      "metadata": {
        "id": "VG3zZUFP1lgB",
        "outputId": "216e5150-84be-4477-b414-17e634717602",
        "colab": {
          "base_uri": "https://localhost:8080/"
        }
      },
      "source": [
        "pip install xgboost"
      ],
      "execution_count": 317,
      "outputs": [
        {
          "output_type": "stream",
          "text": [
            "Requirement already satisfied: xgboost in /usr/local/lib/python3.6/dist-packages (0.90)\n",
            "Requirement already satisfied: scipy in /usr/local/lib/python3.6/dist-packages (from xgboost) (1.4.1)\n",
            "Requirement already satisfied: numpy in /usr/local/lib/python3.6/dist-packages (from xgboost) (1.18.5)\n"
          ],
          "name": "stdout"
        }
      ]
    },
    {
      "cell_type": "code",
      "metadata": {
        "id": "RIPJUkOx2Eiu",
        "outputId": "56474fb7-0d07-48aa-9683-89a7cbb6d8bf",
        "colab": {
          "base_uri": "https://localhost:8080/",
          "height": 85
        }
      },
      "source": [
        "#code snippet reference from classwork\n",
        "\n",
        "from  xgboost import XGBClassifier\n",
        "xgbc= XGBClassifier(random_state=42,early_stopping_rounds=2,objective= 'binary:logistic')\n",
        "xgbc_param = {\n",
        "              'max_depth' : [2,4,6],\n",
        "              'n_estimators' : [150,200],\n",
        "              'learning_rate' : [0.1,0.5],\n",
        "               'min_child_weight' : [1,3,5,7],\n",
        "                'subsample':[0.8,0.9,1]\n",
        "             }\n",
        "xgbc_grid = GridSearchCV(xgbc, xgbc_param,cv=5, return_train_score=True, )\n",
        "xgbc_grid.fit(X_train,y_train)\n",
        "print(f'Best Mean Cross Validation Score is {xgbc_grid.best_score_}')\n",
        "print(f'Best Mean Cross Validation Score is {xgbc_grid.best_params_}')\n",
        "print(f'Train score is {xgbc_grid.score(X_train,y_train)}')\n",
        "print(f'Test score is {xgbc_grid.score(X_test,y_test)}')\n",
        "#print(f'Val score is {xgbc_grid.score(X_val,y_val)}')"
      ],
      "execution_count": null,
      "outputs": [
        {
          "output_type": "stream",
          "text": [
            "Best Mean Cross Validation Score is 0.8514052795031055\n",
            "Best Mean Cross Validation Score is {'learning_rate': 0.1, 'max_depth': 6, 'min_child_weight': 7, 'n_estimators': 150, 'subsample': 0.9}\n",
            "Train score is 0.8951310861423221\n",
            "Test score is 0.8333333333333334\n"
          ],
          "name": "stdout"
        }
      ]
    }
  ]
}